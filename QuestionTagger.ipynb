{
 "cells": [
  {
   "cell_type": "code",
   "execution_count": 1,
   "id": "cc66e702",
   "metadata": {
    "id": "cc66e702"
   },
   "outputs": [],
   "source": [
    "import pandas as pd\n",
    "import numpy as np\n",
    "\n",
    "import matplotlib.pyplot as plt\n",
    "import matplotlib.lines as mlines\n",
    "\n",
    "import nltk\n",
    "from nltk.tokenize import ToktokTokenizer\n",
    "from nltk.stem.wordnet import WordNetLemmatizer\n",
    "from nltk.corpus import stopwords\n",
    "from string import punctuation\n",
    "\n",
    "import re\n",
    "from bs4 import BeautifulSoup\n",
    "\n",
    "from sklearn.feature_extraction.text import TfidfVectorizer\n",
    "from sklearn.model_selection import train_test_split\n",
    "from sklearn.model_selection import learning_curve\n",
    "from sklearn.model_selection import ShuffleSplit\n",
    "from sklearn.preprocessing import MultiLabelBinarizer\n",
    "from sklearn.linear_model import SGDClassifier\n",
    "from sklearn.multiclass import OneVsRestClassifier\n",
    "from sklearn.metrics import hamming_loss\n",
    "from sklearn.metrics import confusion_matrix\n",
    "\n",
    "from scipy.sparse import hstack"
   ]
  },
  {
   "cell_type": "code",
   "execution_count": 2,
   "id": "ed1d7799",
   "metadata": {
    "id": "ed1d7799",
    "outputId": "81334488-9472-4dc5-fe18-eea42ac2f16d"
   },
   "outputs": [
    {
     "data": {
      "text/html": [
       "<div>\n",
       "<style scoped>\n",
       "    .dataframe tbody tr th:only-of-type {\n",
       "        vertical-align: middle;\n",
       "    }\n",
       "\n",
       "    .dataframe tbody tr th {\n",
       "        vertical-align: top;\n",
       "    }\n",
       "\n",
       "    .dataframe thead th {\n",
       "        text-align: right;\n",
       "    }\n",
       "</style>\n",
       "<table border=\"1\" class=\"dataframe\">\n",
       "  <thead>\n",
       "    <tr style=\"text-align: right;\">\n",
       "      <th></th>\n",
       "      <th>Id</th>\n",
       "      <th>OwnerUserId</th>\n",
       "      <th>CreationDate</th>\n",
       "      <th>Score</th>\n",
       "      <th>Title</th>\n",
       "      <th>Body</th>\n",
       "    </tr>\n",
       "  </thead>\n",
       "  <tbody>\n",
       "    <tr>\n",
       "      <th>0</th>\n",
       "      <td>469</td>\n",
       "      <td>147.0</td>\n",
       "      <td>2008-08-02T15:11:16Z</td>\n",
       "      <td>21</td>\n",
       "      <td>How can I find the full path to a font from it...</td>\n",
       "      <td>&lt;p&gt;I am using the Photoshop's javascript API t...</td>\n",
       "    </tr>\n",
       "    <tr>\n",
       "      <th>1</th>\n",
       "      <td>502</td>\n",
       "      <td>147.0</td>\n",
       "      <td>2008-08-02T17:01:58Z</td>\n",
       "      <td>27</td>\n",
       "      <td>Get a preview JPEG of a PDF on Windows?</td>\n",
       "      <td>&lt;p&gt;I have a cross-platform (Python) applicatio...</td>\n",
       "    </tr>\n",
       "    <tr>\n",
       "      <th>2</th>\n",
       "      <td>535</td>\n",
       "      <td>154.0</td>\n",
       "      <td>2008-08-02T18:43:54Z</td>\n",
       "      <td>40</td>\n",
       "      <td>Continuous Integration System for a Python Cod...</td>\n",
       "      <td>&lt;p&gt;I'm starting work on a hobby project with a...</td>\n",
       "    </tr>\n",
       "    <tr>\n",
       "      <th>3</th>\n",
       "      <td>594</td>\n",
       "      <td>116.0</td>\n",
       "      <td>2008-08-03T01:15:08Z</td>\n",
       "      <td>25</td>\n",
       "      <td>cx_Oracle: How do I iterate over a result set?</td>\n",
       "      <td>&lt;p&gt;There are several ways to iterate over a re...</td>\n",
       "    </tr>\n",
       "    <tr>\n",
       "      <th>4</th>\n",
       "      <td>683</td>\n",
       "      <td>199.0</td>\n",
       "      <td>2008-08-03T13:19:16Z</td>\n",
       "      <td>28</td>\n",
       "      <td>Using 'in' to match an attribute of Python obj...</td>\n",
       "      <td>&lt;p&gt;I don't remember whether I was dreaming or ...</td>\n",
       "    </tr>\n",
       "  </tbody>\n",
       "</table>\n",
       "</div>"
      ],
      "text/plain": [
       "    Id  OwnerUserId          CreationDate  Score  \\\n",
       "0  469        147.0  2008-08-02T15:11:16Z     21   \n",
       "1  502        147.0  2008-08-02T17:01:58Z     27   \n",
       "2  535        154.0  2008-08-02T18:43:54Z     40   \n",
       "3  594        116.0  2008-08-03T01:15:08Z     25   \n",
       "4  683        199.0  2008-08-03T13:19:16Z     28   \n",
       "\n",
       "                                               Title  \\\n",
       "0  How can I find the full path to a font from it...   \n",
       "1            Get a preview JPEG of a PDF on Windows?   \n",
       "2  Continuous Integration System for a Python Cod...   \n",
       "3     cx_Oracle: How do I iterate over a result set?   \n",
       "4  Using 'in' to match an attribute of Python obj...   \n",
       "\n",
       "                                                Body  \n",
       "0  <p>I am using the Photoshop's javascript API t...  \n",
       "1  <p>I have a cross-platform (Python) applicatio...  \n",
       "2  <p>I'm starting work on a hobby project with a...  \n",
       "3  <p>There are several ways to iterate over a re...  \n",
       "4  <p>I don't remember whether I was dreaming or ...  "
      ]
     },
     "execution_count": 2,
     "metadata": {},
     "output_type": "execute_result"
    }
   ],
   "source": [
    "questions = pd.read_csv(\"Dataset/Questions.csv\",encoding='latin-1')\n",
    "questions.head()"
   ]
  },
  {
   "cell_type": "code",
   "execution_count": 3,
   "id": "56d3b4b7",
   "metadata": {
    "id": "56d3b4b7",
    "outputId": "16898e46-8a10-4740-c26d-8379a21235b6"
   },
   "outputs": [
    {
     "name": "stdout",
     "output_type": "stream",
     "text": [
      "<class 'pandas.core.frame.DataFrame'>\n",
      "RangeIndex: 607282 entries, 0 to 607281\n",
      "Data columns (total 6 columns):\n",
      " #   Column        Non-Null Count   Dtype  \n",
      "---  ------        --------------   -----  \n",
      " 0   Id            607282 non-null  int64  \n",
      " 1   OwnerUserId   601070 non-null  float64\n",
      " 2   CreationDate  607282 non-null  object \n",
      " 3   Score         607282 non-null  int64  \n",
      " 4   Title         607282 non-null  object \n",
      " 5   Body          607282 non-null  object \n",
      "dtypes: float64(1), int64(2), object(3)\n",
      "memory usage: 27.8+ MB\n"
     ]
    }
   ],
   "source": [
    "questions.info()"
   ]
  },
  {
   "cell_type": "code",
   "execution_count": 4,
   "id": "1e5fe457",
   "metadata": {
    "id": "1e5fe457",
    "outputId": "ab28ae61-d924-49d7-daa8-0e708059b6aa"
   },
   "outputs": [
    {
     "data": {
      "text/html": [
       "<div>\n",
       "<style scoped>\n",
       "    .dataframe tbody tr th:only-of-type {\n",
       "        vertical-align: middle;\n",
       "    }\n",
       "\n",
       "    .dataframe tbody tr th {\n",
       "        vertical-align: top;\n",
       "    }\n",
       "\n",
       "    .dataframe thead th {\n",
       "        text-align: right;\n",
       "    }\n",
       "</style>\n",
       "<table border=\"1\" class=\"dataframe\">\n",
       "  <thead>\n",
       "    <tr style=\"text-align: right;\">\n",
       "      <th></th>\n",
       "      <th>Id</th>\n",
       "      <th>Tag</th>\n",
       "    </tr>\n",
       "  </thead>\n",
       "  <tbody>\n",
       "    <tr>\n",
       "      <th>0</th>\n",
       "      <td>469</td>\n",
       "      <td>python</td>\n",
       "    </tr>\n",
       "    <tr>\n",
       "      <th>1</th>\n",
       "      <td>469</td>\n",
       "      <td>osx</td>\n",
       "    </tr>\n",
       "    <tr>\n",
       "      <th>2</th>\n",
       "      <td>469</td>\n",
       "      <td>fonts</td>\n",
       "    </tr>\n",
       "    <tr>\n",
       "      <th>3</th>\n",
       "      <td>469</td>\n",
       "      <td>photoshop</td>\n",
       "    </tr>\n",
       "    <tr>\n",
       "      <th>4</th>\n",
       "      <td>502</td>\n",
       "      <td>python</td>\n",
       "    </tr>\n",
       "  </tbody>\n",
       "</table>\n",
       "</div>"
      ],
      "text/plain": [
       "    Id        Tag\n",
       "0  469     python\n",
       "1  469        osx\n",
       "2  469      fonts\n",
       "3  469  photoshop\n",
       "4  502     python"
      ]
     },
     "execution_count": 4,
     "metadata": {},
     "output_type": "execute_result"
    }
   ],
   "source": [
    "tags = pd.read_csv(\"Dataset/Tags.csv\", dtype={'Tag':str})\n",
    "tags.head()"
   ]
  },
  {
   "cell_type": "code",
   "execution_count": 5,
   "id": "323604e7",
   "metadata": {
    "id": "323604e7",
    "outputId": "eb612a70-558f-4cdf-ef09-01be4d703c59"
   },
   "outputs": [
    {
     "name": "stdout",
     "output_type": "stream",
     "text": [
      "<class 'pandas.core.frame.DataFrame'>\n",
      "RangeIndex: 1885078 entries, 0 to 1885077\n",
      "Data columns (total 2 columns):\n",
      " #   Column  Dtype \n",
      "---  ------  ----- \n",
      " 0   Id      int64 \n",
      " 1   Tag     object\n",
      "dtypes: int64(1), object(1)\n",
      "memory usage: 28.8+ MB\n"
     ]
    }
   ],
   "source": [
    "tags.info()"
   ]
  },
  {
   "cell_type": "code",
   "execution_count": 6,
   "id": "ad32fc75",
   "metadata": {
    "id": "ad32fc75"
   },
   "outputs": [],
   "source": [
    "tags['Tag'] = tags['Tag'].astype(str)"
   ]
  },
  {
   "cell_type": "code",
   "execution_count": 7,
   "id": "feb025cc",
   "metadata": {
    "id": "feb025cc"
   },
   "outputs": [],
   "source": [
    "grouped_tags = tags.groupby(\"Id\")['Tag'].apply(lambda tags: ' '.join(tags))"
   ]
  },
  {
   "cell_type": "code",
   "execution_count": 8,
   "id": "b0b0d092",
   "metadata": {
    "id": "b0b0d092",
    "outputId": "d18ca49e-f61c-4503-df7f-6caa18831f7f"
   },
   "outputs": [
    {
     "data": {
      "text/plain": [
       "Id\n",
       "469                           python osx fonts photoshop\n",
       "502                             python windows image pdf\n",
       "535    python continuous-integration extreme-programming\n",
       "594                 python sql database oracle cx-oracle\n",
       "683                              python arrays iteration\n",
       "Name: Tag, dtype: object"
      ]
     },
     "execution_count": 8,
     "metadata": {},
     "output_type": "execute_result"
    }
   ],
   "source": [
    "grouped_tags.head()"
   ]
  },
  {
   "cell_type": "code",
   "execution_count": 9,
   "id": "f0362a5b",
   "metadata": {
    "id": "f0362a5b",
    "outputId": "e7d6c82e-0e3e-4b3f-f333-c8f47c307a7e"
   },
   "outputs": [
    {
     "data": {
      "text/html": [
       "<div>\n",
       "<style scoped>\n",
       "    .dataframe tbody tr th:only-of-type {\n",
       "        vertical-align: middle;\n",
       "    }\n",
       "\n",
       "    .dataframe tbody tr th {\n",
       "        vertical-align: top;\n",
       "    }\n",
       "\n",
       "    .dataframe thead th {\n",
       "        text-align: right;\n",
       "    }\n",
       "</style>\n",
       "<table border=\"1\" class=\"dataframe\">\n",
       "  <thead>\n",
       "    <tr style=\"text-align: right;\">\n",
       "      <th></th>\n",
       "      <th>Id</th>\n",
       "      <th>Tag</th>\n",
       "    </tr>\n",
       "  </thead>\n",
       "  <tbody>\n",
       "    <tr>\n",
       "      <th>0</th>\n",
       "      <td>469</td>\n",
       "      <td>python osx fonts photoshop</td>\n",
       "    </tr>\n",
       "    <tr>\n",
       "      <th>1</th>\n",
       "      <td>502</td>\n",
       "      <td>python windows image pdf</td>\n",
       "    </tr>\n",
       "    <tr>\n",
       "      <th>2</th>\n",
       "      <td>535</td>\n",
       "      <td>python continuous-integration extreme-programming</td>\n",
       "    </tr>\n",
       "    <tr>\n",
       "      <th>3</th>\n",
       "      <td>594</td>\n",
       "      <td>python sql database oracle cx-oracle</td>\n",
       "    </tr>\n",
       "    <tr>\n",
       "      <th>4</th>\n",
       "      <td>683</td>\n",
       "      <td>python arrays iteration</td>\n",
       "    </tr>\n",
       "    <tr>\n",
       "      <th>...</th>\n",
       "      <td>...</td>\n",
       "      <td>...</td>\n",
       "    </tr>\n",
       "    <tr>\n",
       "      <th>607278</th>\n",
       "      <td>40143190</td>\n",
       "      <td>python bash multiline</td>\n",
       "    </tr>\n",
       "    <tr>\n",
       "      <th>607279</th>\n",
       "      <td>40143228</td>\n",
       "      <td>python selenium-webdriver</td>\n",
       "    </tr>\n",
       "    <tr>\n",
       "      <th>607280</th>\n",
       "      <td>40143267</td>\n",
       "      <td>python django django-rest-framework</td>\n",
       "    </tr>\n",
       "    <tr>\n",
       "      <th>607281</th>\n",
       "      <td>40143338</td>\n",
       "      <td>python</td>\n",
       "    </tr>\n",
       "    <tr>\n",
       "      <th>607282</th>\n",
       "      <td>40143365</td>\n",
       "      <td>python numpy theano nnet</td>\n",
       "    </tr>\n",
       "  </tbody>\n",
       "</table>\n",
       "<p>607283 rows × 2 columns</p>\n",
       "</div>"
      ],
      "text/plain": [
       "              Id                                                Tag\n",
       "0            469                         python osx fonts photoshop\n",
       "1            502                           python windows image pdf\n",
       "2            535  python continuous-integration extreme-programming\n",
       "3            594               python sql database oracle cx-oracle\n",
       "4            683                            python arrays iteration\n",
       "...          ...                                                ...\n",
       "607278  40143190                              python bash multiline\n",
       "607279  40143228                          python selenium-webdriver\n",
       "607280  40143267                python django django-rest-framework\n",
       "607281  40143338                                             python\n",
       "607282  40143365                           python numpy theano nnet\n",
       "\n",
       "[607283 rows x 2 columns]"
      ]
     },
     "execution_count": 9,
     "metadata": {},
     "output_type": "execute_result"
    }
   ],
   "source": [
    "grouped_tags.reset_index()"
   ]
  },
  {
   "cell_type": "code",
   "execution_count": 10,
   "id": "81906d51",
   "metadata": {
    "id": "81906d51"
   },
   "outputs": [],
   "source": [
    "grouped_tags_final = pd.DataFrame({'Id':grouped_tags.index, 'Tags':grouped_tags.values})"
   ]
  },
  {
   "cell_type": "code",
   "execution_count": 11,
   "id": "e4675f81",
   "metadata": {
    "id": "e4675f81",
    "outputId": "5c8db22c-1b76-483c-df7c-ae17e8d02703"
   },
   "outputs": [
    {
     "data": {
      "text/html": [
       "<div>\n",
       "<style scoped>\n",
       "    .dataframe tbody tr th:only-of-type {\n",
       "        vertical-align: middle;\n",
       "    }\n",
       "\n",
       "    .dataframe tbody tr th {\n",
       "        vertical-align: top;\n",
       "    }\n",
       "\n",
       "    .dataframe thead th {\n",
       "        text-align: right;\n",
       "    }\n",
       "</style>\n",
       "<table border=\"1\" class=\"dataframe\">\n",
       "  <thead>\n",
       "    <tr style=\"text-align: right;\">\n",
       "      <th></th>\n",
       "      <th>Id</th>\n",
       "      <th>Tags</th>\n",
       "    </tr>\n",
       "  </thead>\n",
       "  <tbody>\n",
       "    <tr>\n",
       "      <th>0</th>\n",
       "      <td>469</td>\n",
       "      <td>python osx fonts photoshop</td>\n",
       "    </tr>\n",
       "    <tr>\n",
       "      <th>1</th>\n",
       "      <td>502</td>\n",
       "      <td>python windows image pdf</td>\n",
       "    </tr>\n",
       "    <tr>\n",
       "      <th>2</th>\n",
       "      <td>535</td>\n",
       "      <td>python continuous-integration extreme-programming</td>\n",
       "    </tr>\n",
       "    <tr>\n",
       "      <th>3</th>\n",
       "      <td>594</td>\n",
       "      <td>python sql database oracle cx-oracle</td>\n",
       "    </tr>\n",
       "    <tr>\n",
       "      <th>4</th>\n",
       "      <td>683</td>\n",
       "      <td>python arrays iteration</td>\n",
       "    </tr>\n",
       "  </tbody>\n",
       "</table>\n",
       "</div>"
      ],
      "text/plain": [
       "    Id                                               Tags\n",
       "0  469                         python osx fonts photoshop\n",
       "1  502                           python windows image pdf\n",
       "2  535  python continuous-integration extreme-programming\n",
       "3  594               python sql database oracle cx-oracle\n",
       "4  683                            python arrays iteration"
      ]
     },
     "execution_count": 11,
     "metadata": {},
     "output_type": "execute_result"
    }
   ],
   "source": [
    "grouped_tags_final.head(5)"
   ]
  },
  {
   "cell_type": "code",
   "execution_count": 12,
   "id": "6e9338e8",
   "metadata": {
    "id": "6e9338e8"
   },
   "outputs": [],
   "source": [
    "questions.drop(columns=['OwnerUserId', 'CreationDate'], inplace=True)"
   ]
  },
  {
   "cell_type": "code",
   "execution_count": 13,
   "id": "1bb6ed96",
   "metadata": {
    "id": "1bb6ed96",
    "outputId": "bc607267-5c44-4993-a71a-c9ed3e305f7b"
   },
   "outputs": [
    {
     "data": {
      "text/html": [
       "<div>\n",
       "<style scoped>\n",
       "    .dataframe tbody tr th:only-of-type {\n",
       "        vertical-align: middle;\n",
       "    }\n",
       "\n",
       "    .dataframe tbody tr th {\n",
       "        vertical-align: top;\n",
       "    }\n",
       "\n",
       "    .dataframe thead th {\n",
       "        text-align: right;\n",
       "    }\n",
       "</style>\n",
       "<table border=\"1\" class=\"dataframe\">\n",
       "  <thead>\n",
       "    <tr style=\"text-align: right;\">\n",
       "      <th></th>\n",
       "      <th>Id</th>\n",
       "      <th>Score</th>\n",
       "      <th>Title</th>\n",
       "      <th>Body</th>\n",
       "      <th>Tags</th>\n",
       "    </tr>\n",
       "  </thead>\n",
       "  <tbody>\n",
       "    <tr>\n",
       "      <th>0</th>\n",
       "      <td>469</td>\n",
       "      <td>21</td>\n",
       "      <td>How can I find the full path to a font from it...</td>\n",
       "      <td>&lt;p&gt;I am using the Photoshop's javascript API t...</td>\n",
       "      <td>python osx fonts photoshop</td>\n",
       "    </tr>\n",
       "    <tr>\n",
       "      <th>1</th>\n",
       "      <td>502</td>\n",
       "      <td>27</td>\n",
       "      <td>Get a preview JPEG of a PDF on Windows?</td>\n",
       "      <td>&lt;p&gt;I have a cross-platform (Python) applicatio...</td>\n",
       "      <td>python windows image pdf</td>\n",
       "    </tr>\n",
       "    <tr>\n",
       "      <th>2</th>\n",
       "      <td>535</td>\n",
       "      <td>40</td>\n",
       "      <td>Continuous Integration System for a Python Cod...</td>\n",
       "      <td>&lt;p&gt;I'm starting work on a hobby project with a...</td>\n",
       "      <td>python continuous-integration extreme-programming</td>\n",
       "    </tr>\n",
       "    <tr>\n",
       "      <th>3</th>\n",
       "      <td>594</td>\n",
       "      <td>25</td>\n",
       "      <td>cx_Oracle: How do I iterate over a result set?</td>\n",
       "      <td>&lt;p&gt;There are several ways to iterate over a re...</td>\n",
       "      <td>python sql database oracle cx-oracle</td>\n",
       "    </tr>\n",
       "    <tr>\n",
       "      <th>4</th>\n",
       "      <td>683</td>\n",
       "      <td>28</td>\n",
       "      <td>Using 'in' to match an attribute of Python obj...</td>\n",
       "      <td>&lt;p&gt;I don't remember whether I was dreaming or ...</td>\n",
       "      <td>python arrays iteration</td>\n",
       "    </tr>\n",
       "  </tbody>\n",
       "</table>\n",
       "</div>"
      ],
      "text/plain": [
       "    Id  Score                                              Title  \\\n",
       "0  469     21  How can I find the full path to a font from it...   \n",
       "1  502     27            Get a preview JPEG of a PDF on Windows?   \n",
       "2  535     40  Continuous Integration System for a Python Cod...   \n",
       "3  594     25     cx_Oracle: How do I iterate over a result set?   \n",
       "4  683     28  Using 'in' to match an attribute of Python obj...   \n",
       "\n",
       "                                                Body  \\\n",
       "0  <p>I am using the Photoshop's javascript API t...   \n",
       "1  <p>I have a cross-platform (Python) applicatio...   \n",
       "2  <p>I'm starting work on a hobby project with a...   \n",
       "3  <p>There are several ways to iterate over a re...   \n",
       "4  <p>I don't remember whether I was dreaming or ...   \n",
       "\n",
       "                                                Tags  \n",
       "0                         python osx fonts photoshop  \n",
       "1                           python windows image pdf  \n",
       "2  python continuous-integration extreme-programming  \n",
       "3               python sql database oracle cx-oracle  \n",
       "4                            python arrays iteration  "
      ]
     },
     "execution_count": 13,
     "metadata": {},
     "output_type": "execute_result"
    }
   ],
   "source": [
    "questions = questions.merge(grouped_tags_final, on='Id')\n",
    "questions.head()"
   ]
  },
  {
   "cell_type": "code",
   "execution_count": 14,
   "id": "85013340",
   "metadata": {
    "id": "85013340"
   },
   "outputs": [],
   "source": [
    "filtered_questions = questions[questions['Score']>5]"
   ]
  },
  {
   "cell_type": "code",
   "execution_count": 15,
   "id": "b198e5ec",
   "metadata": {
    "id": "b198e5ec",
    "outputId": "d226609b-cdf6-4195-e483-619229de5781"
   },
   "outputs": [
    {
     "name": "stderr",
     "output_type": "stream",
     "text": [
      "C:\\Users\\win 10\\AppData\\Local\\Temp\\ipykernel_12864\\3611255864.py:1: SettingWithCopyWarning: \n",
      "A value is trying to be set on a copy of a slice from a DataFrame\n",
      "\n",
      "See the caveats in the documentation: https://pandas.pydata.org/pandas-docs/stable/user_guide/indexing.html#returning-a-view-versus-a-copy\n",
      "  filtered_questions.drop(columns = ['Id', 'Score'], inplace=True)\n"
     ]
    }
   ],
   "source": [
    "filtered_questions.drop(columns = ['Id', 'Score'], inplace=True)"
   ]
  },
  {
   "cell_type": "code",
   "execution_count": 16,
   "id": "8b6903da",
   "metadata": {
    "id": "8b6903da",
    "outputId": "34f06ed9-b46f-4de5-a145-c6613ef38c19"
   },
   "outputs": [
    {
     "data": {
      "text/html": [
       "<div>\n",
       "<style scoped>\n",
       "    .dataframe tbody tr th:only-of-type {\n",
       "        vertical-align: middle;\n",
       "    }\n",
       "\n",
       "    .dataframe tbody tr th {\n",
       "        vertical-align: top;\n",
       "    }\n",
       "\n",
       "    .dataframe thead th {\n",
       "        text-align: right;\n",
       "    }\n",
       "</style>\n",
       "<table border=\"1\" class=\"dataframe\">\n",
       "  <thead>\n",
       "    <tr style=\"text-align: right;\">\n",
       "      <th></th>\n",
       "      <th>Title</th>\n",
       "      <th>Body</th>\n",
       "      <th>Tags</th>\n",
       "    </tr>\n",
       "  </thead>\n",
       "  <tbody>\n",
       "    <tr>\n",
       "      <th>0</th>\n",
       "      <td>How can I find the full path to a font from it...</td>\n",
       "      <td>&lt;p&gt;I am using the Photoshop's javascript API t...</td>\n",
       "      <td>python osx fonts photoshop</td>\n",
       "    </tr>\n",
       "    <tr>\n",
       "      <th>1</th>\n",
       "      <td>Get a preview JPEG of a PDF on Windows?</td>\n",
       "      <td>&lt;p&gt;I have a cross-platform (Python) applicatio...</td>\n",
       "      <td>python windows image pdf</td>\n",
       "    </tr>\n",
       "    <tr>\n",
       "      <th>2</th>\n",
       "      <td>Continuous Integration System for a Python Cod...</td>\n",
       "      <td>&lt;p&gt;I'm starting work on a hobby project with a...</td>\n",
       "      <td>python continuous-integration extreme-programming</td>\n",
       "    </tr>\n",
       "    <tr>\n",
       "      <th>3</th>\n",
       "      <td>cx_Oracle: How do I iterate over a result set?</td>\n",
       "      <td>&lt;p&gt;There are several ways to iterate over a re...</td>\n",
       "      <td>python sql database oracle cx-oracle</td>\n",
       "    </tr>\n",
       "    <tr>\n",
       "      <th>4</th>\n",
       "      <td>Using 'in' to match an attribute of Python obj...</td>\n",
       "      <td>&lt;p&gt;I don't remember whether I was dreaming or ...</td>\n",
       "      <td>python arrays iteration</td>\n",
       "    </tr>\n",
       "  </tbody>\n",
       "</table>\n",
       "</div>"
      ],
      "text/plain": [
       "                                               Title  \\\n",
       "0  How can I find the full path to a font from it...   \n",
       "1            Get a preview JPEG of a PDF on Windows?   \n",
       "2  Continuous Integration System for a Python Cod...   \n",
       "3     cx_Oracle: How do I iterate over a result set?   \n",
       "4  Using 'in' to match an attribute of Python obj...   \n",
       "\n",
       "                                                Body  \\\n",
       "0  <p>I am using the Photoshop's javascript API t...   \n",
       "1  <p>I have a cross-platform (Python) applicatio...   \n",
       "2  <p>I'm starting work on a hobby project with a...   \n",
       "3  <p>There are several ways to iterate over a re...   \n",
       "4  <p>I don't remember whether I was dreaming or ...   \n",
       "\n",
       "                                                Tags  \n",
       "0                         python osx fonts photoshop  \n",
       "1                           python windows image pdf  \n",
       "2  python continuous-integration extreme-programming  \n",
       "3               python sql database oracle cx-oracle  \n",
       "4                            python arrays iteration  "
      ]
     },
     "execution_count": 16,
     "metadata": {},
     "output_type": "execute_result"
    }
   ],
   "source": [
    "filtered_questions.head()"
   ]
  },
  {
   "cell_type": "code",
   "execution_count": 17,
   "id": "eaf22ab1",
   "metadata": {
    "id": "eaf22ab1",
    "outputId": "f58ed740-9b41-4cca-ea18-9ecf3e69bad1"
   },
   "outputs": [
    {
     "name": "stdout",
     "output_type": "stream",
     "text": [
      "134101\n",
      "6384\n"
     ]
    },
    {
     "name": "stderr",
     "output_type": "stream",
     "text": [
      "C:\\Users\\win 10\\AppData\\Local\\Temp\\ipykernel_12864\\2466576371.py:1: SettingWithCopyWarning: \n",
      "A value is trying to be set on a copy of a slice from a DataFrame.\n",
      "Try using .loc[row_indexer,col_indexer] = value instead\n",
      "\n",
      "See the caveats in the documentation: https://pandas.pydata.org/pandas-docs/stable/user_guide/indexing.html#returning-a-view-versus-a-copy\n",
      "  filtered_questions['Tags'] = filtered_questions['Tags'].apply(lambda x: x.split())\n"
     ]
    }
   ],
   "source": [
    "filtered_questions['Tags'] = filtered_questions['Tags'].apply(lambda x: x.split())\n",
    "\n",
    "all_tags = [item for sublist in filtered_questions['Tags'].values for item in sublist]\n",
    "\n",
    "print(len(all_tags))\n",
    "\n",
    "my_set = set(all_tags)\n",
    "unique_tags = list(my_set)\n",
    "print(len(unique_tags))"
   ]
  },
  {
   "cell_type": "code",
   "execution_count": 18,
   "id": "1cca4d0e",
   "metadata": {
    "id": "1cca4d0e"
   },
   "outputs": [],
   "source": [
    "flat_list = [item for sublist in filtered_questions['Tags'].values for item in sublist]\n",
    "\n",
    "keywords = nltk.FreqDist(flat_list)\n",
    "\n",
    "keywords = nltk.FreqDist(keywords)\n",
    "\n",
    "frequencies_words = keywords.most_common(100)\n",
    "tags_features = [word[0] for word in frequencies_words]"
   ]
  },
  {
   "cell_type": "code",
   "execution_count": 19,
   "id": "949ae3b9",
   "metadata": {
    "id": "949ae3b9",
    "outputId": "599254f3-ae0a-46db-9bf3-426de74525a5"
   },
   "outputs": [
    {
     "data": {
      "text/plain": [
       "['python',\n",
       " 'django',\n",
       " 'numpy',\n",
       " 'matplotlib',\n",
       " 'pandas',\n",
       " 'python-3.x',\n",
       " 'python-2.7',\n",
       " 'list',\n",
       " 'string',\n",
       " 'flask',\n",
       " 'dictionary',\n",
       " 'scipy',\n",
       " 'regex',\n",
       " 'performance',\n",
       " 'google-app-engine',\n",
       " 'sqlalchemy',\n",
       " 'arrays',\n",
       " 'pip',\n",
       " 'windows',\n",
       " 'algorithm',\n",
       " 'unit-testing',\n",
       " 'linux',\n",
       " 'unicode',\n",
       " 'multithreading',\n",
       " 'django-models',\n",
       " 'osx',\n",
       " 'json',\n",
       " 'datetime',\n",
       " 'c++',\n",
       " 'mysql',\n",
       " 'virtualenv',\n",
       " 'multiprocessing',\n",
       " 'subprocess',\n",
       " 'class',\n",
       " 'java',\n",
       " 'c',\n",
       " 'ipython',\n",
       " 'file',\n",
       " 'csv',\n",
       " 'logging',\n",
       " 'exception',\n",
       " 'opencv',\n",
       " 'sorting',\n",
       " 'selenium',\n",
       " 'tkinter',\n",
       " 'python-imaging-library',\n",
       " 'javascript',\n",
       " 'module',\n",
       " 'celery',\n",
       " 'function',\n",
       " 'import',\n",
       " 'parsing',\n",
       " 'cython',\n",
       " 'scikit-learn',\n",
       " 'math',\n",
       " 'xml',\n",
       " 'dataframe',\n",
       " 'html',\n",
       " 'pycharm',\n",
       " 'machine-learning',\n",
       " 'beautifulsoup',\n",
       " 'plot',\n",
       " 'list-comprehension',\n",
       " 'generator',\n",
       " 'django-admin',\n",
       " 'pyqt',\n",
       " 'postgresql',\n",
       " 'debugging',\n",
       " 'nltk',\n",
       " 'tuples',\n",
       " 'file-io',\n",
       " 'urllib2',\n",
       " 'oop',\n",
       " 'setuptools',\n",
       " 'sockets',\n",
       " 'decorator',\n",
       " 'image-processing',\n",
       " 'image',\n",
       " 'ruby',\n",
       " 'scrapy',\n",
       " 'sql',\n",
       " 'ubuntu',\n",
       " 'database',\n",
       " 'argparse',\n",
       " 'http',\n",
       " 'random',\n",
       " 'optimization',\n",
       " 'python-2.x',\n",
       " 'pickle',\n",
       " 'python-import',\n",
       " 'python-requests',\n",
       " 'inheritance',\n",
       " 'nlp',\n",
       " 'lxml',\n",
       " 'twisted',\n",
       " 'jinja2',\n",
       " 'php',\n",
       " 'django-templates',\n",
       " 'mongodb',\n",
       " 'sqlite']"
      ]
     },
     "execution_count": 19,
     "metadata": {},
     "output_type": "execute_result"
    }
   ],
   "source": [
    "tags_features"
   ]
  },
  {
   "cell_type": "code",
   "execution_count": 20,
   "id": "fce64d64",
   "metadata": {
    "id": "fce64d64"
   },
   "outputs": [],
   "source": [
    "def most_common(tags):\n",
    "    tags_filtered = []\n",
    "    for i in range(0, len(tags)):\n",
    "        if tags[i] in tags_features:\n",
    "            tags_filtered.append(tags[i])\n",
    "    return tags_filtered"
   ]
  },
  {
   "cell_type": "code",
   "execution_count": 21,
   "id": "5d487c7c",
   "metadata": {
    "id": "5d487c7c",
    "outputId": "bc916bbb-01e2-4ffc-88e3-6f6c2847404c"
   },
   "outputs": [
    {
     "name": "stderr",
     "output_type": "stream",
     "text": [
      "C:\\Users\\win 10\\AppData\\Local\\Temp\\ipykernel_12864\\2458735045.py:1: SettingWithCopyWarning: \n",
      "A value is trying to be set on a copy of a slice from a DataFrame.\n",
      "Try using .loc[row_indexer,col_indexer] = value instead\n",
      "\n",
      "See the caveats in the documentation: https://pandas.pydata.org/pandas-docs/stable/user_guide/indexing.html#returning-a-view-versus-a-copy\n",
      "  filtered_questions['Tags'] = filtered_questions['Tags'].apply(lambda x: most_common(x))\n",
      "C:\\Users\\win 10\\AppData\\Local\\Temp\\ipykernel_12864\\2458735045.py:2: SettingWithCopyWarning: \n",
      "A value is trying to be set on a copy of a slice from a DataFrame.\n",
      "Try using .loc[row_indexer,col_indexer] = value instead\n",
      "\n",
      "See the caveats in the documentation: https://pandas.pydata.org/pandas-docs/stable/user_guide/indexing.html#returning-a-view-versus-a-copy\n",
      "  filtered_questions['Tags'] = filtered_questions['Tags'].apply(lambda x: x if len(x)>0 else None)\n"
     ]
    }
   ],
   "source": [
    "filtered_questions['Tags'] = filtered_questions['Tags'].apply(lambda x: most_common(x))\n",
    "filtered_questions['Tags'] = filtered_questions['Tags'].apply(lambda x: x if len(x)>0 else None)"
   ]
  },
  {
   "cell_type": "code",
   "execution_count": 22,
   "id": "2f042823",
   "metadata": {
    "id": "2f042823",
    "outputId": "c50d57e8-a9a5-4541-e874-475439ba22ad"
   },
   "outputs": [
    {
     "data": {
      "text/html": [
       "<div>\n",
       "<style scoped>\n",
       "    .dataframe tbody tr th:only-of-type {\n",
       "        vertical-align: middle;\n",
       "    }\n",
       "\n",
       "    .dataframe tbody tr th {\n",
       "        vertical-align: top;\n",
       "    }\n",
       "\n",
       "    .dataframe thead th {\n",
       "        text-align: right;\n",
       "    }\n",
       "</style>\n",
       "<table border=\"1\" class=\"dataframe\">\n",
       "  <thead>\n",
       "    <tr style=\"text-align: right;\">\n",
       "      <th></th>\n",
       "      <th>Title</th>\n",
       "      <th>Body</th>\n",
       "      <th>Tags</th>\n",
       "    </tr>\n",
       "  </thead>\n",
       "  <tbody>\n",
       "    <tr>\n",
       "      <th>0</th>\n",
       "      <td>How can I find the full path to a font from it...</td>\n",
       "      <td>&lt;p&gt;I am using the Photoshop's javascript API t...</td>\n",
       "      <td>[python, osx]</td>\n",
       "    </tr>\n",
       "    <tr>\n",
       "      <th>1</th>\n",
       "      <td>Get a preview JPEG of a PDF on Windows?</td>\n",
       "      <td>&lt;p&gt;I have a cross-platform (Python) applicatio...</td>\n",
       "      <td>[python, windows, image]</td>\n",
       "    </tr>\n",
       "    <tr>\n",
       "      <th>2</th>\n",
       "      <td>Continuous Integration System for a Python Cod...</td>\n",
       "      <td>&lt;p&gt;I'm starting work on a hobby project with a...</td>\n",
       "      <td>[python]</td>\n",
       "    </tr>\n",
       "    <tr>\n",
       "      <th>3</th>\n",
       "      <td>cx_Oracle: How do I iterate over a result set?</td>\n",
       "      <td>&lt;p&gt;There are several ways to iterate over a re...</td>\n",
       "      <td>[python, sql, database]</td>\n",
       "    </tr>\n",
       "    <tr>\n",
       "      <th>4</th>\n",
       "      <td>Using 'in' to match an attribute of Python obj...</td>\n",
       "      <td>&lt;p&gt;I don't remember whether I was dreaming or ...</td>\n",
       "      <td>[python, arrays]</td>\n",
       "    </tr>\n",
       "  </tbody>\n",
       "</table>\n",
       "</div>"
      ],
      "text/plain": [
       "                                               Title  \\\n",
       "0  How can I find the full path to a font from it...   \n",
       "1            Get a preview JPEG of a PDF on Windows?   \n",
       "2  Continuous Integration System for a Python Cod...   \n",
       "3     cx_Oracle: How do I iterate over a result set?   \n",
       "4  Using 'in' to match an attribute of Python obj...   \n",
       "\n",
       "                                                Body                      Tags  \n",
       "0  <p>I am using the Photoshop's javascript API t...             [python, osx]  \n",
       "1  <p>I have a cross-platform (Python) applicatio...  [python, windows, image]  \n",
       "2  <p>I'm starting work on a hobby project with a...                  [python]  \n",
       "3  <p>There are several ways to iterate over a re...   [python, sql, database]  \n",
       "4  <p>I don't remember whether I was dreaming or ...          [python, arrays]  "
      ]
     },
     "execution_count": 22,
     "metadata": {},
     "output_type": "execute_result"
    }
   ],
   "source": [
    "filtered_questions.head()"
   ]
  },
  {
   "cell_type": "code",
   "execution_count": 23,
   "id": "55f91d6c",
   "metadata": {
    "id": "55f91d6c",
    "outputId": "b3947c73-1859-4780-a5d8-7913f83ce5fa"
   },
   "outputs": [
    {
     "data": {
      "text/plain": [
       "(42420, 3)"
      ]
     },
     "execution_count": 23,
     "metadata": {},
     "output_type": "execute_result"
    }
   ],
   "source": [
    "filtered_questions.shape"
   ]
  },
  {
   "cell_type": "code",
   "execution_count": 24,
   "id": "8b6729c9",
   "metadata": {
    "id": "8b6729c9",
    "outputId": "779ea659-5200-4e09-9855-f9ef5875a191"
   },
   "outputs": [
    {
     "name": "stderr",
     "output_type": "stream",
     "text": [
      "C:\\Users\\win 10\\AppData\\Local\\Temp\\ipykernel_12864\\2403441477.py:1: SettingWithCopyWarning: \n",
      "A value is trying to be set on a copy of a slice from a DataFrame\n",
      "\n",
      "See the caveats in the documentation: https://pandas.pydata.org/pandas-docs/stable/user_guide/indexing.html#returning-a-view-versus-a-copy\n",
      "  filtered_questions.dropna(subset=['Tags'], inplace=True)\n"
     ]
    }
   ],
   "source": [
    "filtered_questions.dropna(subset=['Tags'], inplace=True)"
   ]
  },
  {
   "cell_type": "code",
   "execution_count": 25,
   "id": "8e71d21c",
   "metadata": {
    "id": "8e71d21c",
    "outputId": "7945a574-97fb-455c-ae30-fd3e1a67d65e"
   },
   "outputs": [
    {
     "data": {
      "text/plain": [
       "(42420, 3)"
      ]
     },
     "execution_count": 25,
     "metadata": {},
     "output_type": "execute_result"
    }
   ],
   "source": [
    "filtered_questions.shape"
   ]
  },
  {
   "cell_type": "code",
   "execution_count": 26,
   "id": "496b636c",
   "metadata": {
    "id": "496b636c",
    "outputId": "78161b6e-0dc5-495f-e682-a8317ad4734d"
   },
   "outputs": [
    {
     "data": {
      "text/html": [
       "<div>\n",
       "<style scoped>\n",
       "    .dataframe tbody tr th:only-of-type {\n",
       "        vertical-align: middle;\n",
       "    }\n",
       "\n",
       "    .dataframe tbody tr th {\n",
       "        vertical-align: top;\n",
       "    }\n",
       "\n",
       "    .dataframe thead th {\n",
       "        text-align: right;\n",
       "    }\n",
       "</style>\n",
       "<table border=\"1\" class=\"dataframe\">\n",
       "  <thead>\n",
       "    <tr style=\"text-align: right;\">\n",
       "      <th></th>\n",
       "      <th>Title</th>\n",
       "      <th>Body</th>\n",
       "      <th>Tags</th>\n",
       "    </tr>\n",
       "  </thead>\n",
       "  <tbody>\n",
       "    <tr>\n",
       "      <th>0</th>\n",
       "      <td>How can I find the full path to a font from it...</td>\n",
       "      <td>&lt;p&gt;I am using the Photoshop's javascript API t...</td>\n",
       "      <td>[python, osx]</td>\n",
       "    </tr>\n",
       "    <tr>\n",
       "      <th>1</th>\n",
       "      <td>Get a preview JPEG of a PDF on Windows?</td>\n",
       "      <td>&lt;p&gt;I have a cross-platform (Python) applicatio...</td>\n",
       "      <td>[python, windows, image]</td>\n",
       "    </tr>\n",
       "    <tr>\n",
       "      <th>2</th>\n",
       "      <td>Continuous Integration System for a Python Cod...</td>\n",
       "      <td>&lt;p&gt;I'm starting work on a hobby project with a...</td>\n",
       "      <td>[python]</td>\n",
       "    </tr>\n",
       "    <tr>\n",
       "      <th>3</th>\n",
       "      <td>cx_Oracle: How do I iterate over a result set?</td>\n",
       "      <td>&lt;p&gt;There are several ways to iterate over a re...</td>\n",
       "      <td>[python, sql, database]</td>\n",
       "    </tr>\n",
       "    <tr>\n",
       "      <th>4</th>\n",
       "      <td>Using 'in' to match an attribute of Python obj...</td>\n",
       "      <td>&lt;p&gt;I don't remember whether I was dreaming or ...</td>\n",
       "      <td>[python, arrays]</td>\n",
       "    </tr>\n",
       "  </tbody>\n",
       "</table>\n",
       "</div>"
      ],
      "text/plain": [
       "                                               Title  \\\n",
       "0  How can I find the full path to a font from it...   \n",
       "1            Get a preview JPEG of a PDF on Windows?   \n",
       "2  Continuous Integration System for a Python Cod...   \n",
       "3     cx_Oracle: How do I iterate over a result set?   \n",
       "4  Using 'in' to match an attribute of Python obj...   \n",
       "\n",
       "                                                Body                      Tags  \n",
       "0  <p>I am using the Photoshop's javascript API t...             [python, osx]  \n",
       "1  <p>I have a cross-platform (Python) applicatio...  [python, windows, image]  \n",
       "2  <p>I'm starting work on a hobby project with a...                  [python]  \n",
       "3  <p>There are several ways to iterate over a re...   [python, sql, database]  \n",
       "4  <p>I don't remember whether I was dreaming or ...          [python, arrays]  "
      ]
     },
     "execution_count": 26,
     "metadata": {},
     "output_type": "execute_result"
    }
   ],
   "source": [
    "filtered_questions.head()"
   ]
  },
  {
   "cell_type": "code",
   "execution_count": 27,
   "id": "1cff59fe",
   "metadata": {
    "id": "1cff59fe",
    "outputId": "12d79212-1203-4b6f-91e9-4fbbd8217a4f"
   },
   "outputs": [
    {
     "name": "stderr",
     "output_type": "stream",
     "text": [
      "C:\\Users\\win 10\\AppData\\Local\\Temp\\ipykernel_12864\\4186123684.py:1: SettingWithCopyWarning: \n",
      "A value is trying to be set on a copy of a slice from a DataFrame.\n",
      "Try using .loc[row_indexer,col_indexer] = value instead\n",
      "\n",
      "See the caveats in the documentation: https://pandas.pydata.org/pandas-docs/stable/user_guide/indexing.html#returning-a-view-versus-a-copy\n",
      "  filtered_questions['Body'] = filtered_questions['Body'].apply(lambda x: BeautifulSoup(x).get_text())\n"
     ]
    }
   ],
   "source": [
    "filtered_questions['Body'] = filtered_questions['Body'].apply(lambda x: BeautifulSoup(x).get_text()) "
   ]
  },
  {
   "cell_type": "code",
   "execution_count": 28,
   "id": "f093e5b4",
   "metadata": {
    "id": "f093e5b4",
    "outputId": "4bd21436-8ab4-49d6-ac46-10f3d556f6d5"
   },
   "outputs": [
    {
     "data": {
      "text/plain": [
       "'I have a cross-platform (Python) application which needs to generate a JPEG preview of the first page of a PDF.\\nOn the Mac I am spawning sips.  Is there something similarly simple I can do on Windows?\\n'"
      ]
     },
     "execution_count": 28,
     "metadata": {},
     "output_type": "execute_result"
    }
   ],
   "source": [
    "filtered_questions['Body'][1]"
   ]
  },
  {
   "cell_type": "code",
   "execution_count": 29,
   "id": "005f6ec1",
   "metadata": {
    "id": "005f6ec1"
   },
   "outputs": [
    {
     "data": {
      "text/html": [
       "<div>\n",
       "<style scoped>\n",
       "    .dataframe tbody tr th:only-of-type {\n",
       "        vertical-align: middle;\n",
       "    }\n",
       "\n",
       "    .dataframe tbody tr th {\n",
       "        vertical-align: top;\n",
       "    }\n",
       "\n",
       "    .dataframe thead th {\n",
       "        text-align: right;\n",
       "    }\n",
       "</style>\n",
       "<table border=\"1\" class=\"dataframe\">\n",
       "  <thead>\n",
       "    <tr style=\"text-align: right;\">\n",
       "      <th></th>\n",
       "      <th>Title</th>\n",
       "      <th>Body</th>\n",
       "      <th>Tags</th>\n",
       "    </tr>\n",
       "  </thead>\n",
       "  <tbody>\n",
       "    <tr>\n",
       "      <th>0</th>\n",
       "      <td>How can I find the full path to a font from it...</td>\n",
       "      <td>I am using the Photoshop's javascript API to f...</td>\n",
       "      <td>[python, osx]</td>\n",
       "    </tr>\n",
       "    <tr>\n",
       "      <th>1</th>\n",
       "      <td>Get a preview JPEG of a PDF on Windows?</td>\n",
       "      <td>I have a cross-platform (Python) application w...</td>\n",
       "      <td>[python, windows, image]</td>\n",
       "    </tr>\n",
       "    <tr>\n",
       "      <th>2</th>\n",
       "      <td>Continuous Integration System for a Python Cod...</td>\n",
       "      <td>I'm starting work on a hobby project with a py...</td>\n",
       "      <td>[python]</td>\n",
       "    </tr>\n",
       "    <tr>\n",
       "      <th>3</th>\n",
       "      <td>cx_Oracle: How do I iterate over a result set?</td>\n",
       "      <td>There are several ways to iterate over a resul...</td>\n",
       "      <td>[python, sql, database]</td>\n",
       "    </tr>\n",
       "    <tr>\n",
       "      <th>4</th>\n",
       "      <td>Using 'in' to match an attribute of Python obj...</td>\n",
       "      <td>I don't remember whether I was dreaming or not...</td>\n",
       "      <td>[python, arrays]</td>\n",
       "    </tr>\n",
       "    <tr>\n",
       "      <th>5</th>\n",
       "      <td>Class views in Django</td>\n",
       "      <td>Django view points to a function, which can be...</td>\n",
       "      <td>[python, django, oop]</td>\n",
       "    </tr>\n",
       "    <tr>\n",
       "      <th>6</th>\n",
       "      <td>Python and MySQL</td>\n",
       "      <td>I can get Python to work with Postgresql but I...</td>\n",
       "      <td>[python, mysql, postgresql]</td>\n",
       "    </tr>\n",
       "    <tr>\n",
       "      <th>7</th>\n",
       "      <td>How do I use Python's itertools.groupby()?</td>\n",
       "      <td>I haven't been able to find an understandable ...</td>\n",
       "      <td>[python]</td>\n",
       "    </tr>\n",
       "    <tr>\n",
       "      <th>8</th>\n",
       "      <td>Adding a Method to an Existing Object Instance</td>\n",
       "      <td>I've read that it is possible to add a method ...</td>\n",
       "      <td>[python, oop]</td>\n",
       "    </tr>\n",
       "    <tr>\n",
       "      <th>9</th>\n",
       "      <td>How do you express binary literals in Python?</td>\n",
       "      <td>How do you express an integer as a binary numb...</td>\n",
       "      <td>[python]</td>\n",
       "    </tr>\n",
       "  </tbody>\n",
       "</table>\n",
       "</div>"
      ],
      "text/plain": [
       "                                               Title  \\\n",
       "0  How can I find the full path to a font from it...   \n",
       "1            Get a preview JPEG of a PDF on Windows?   \n",
       "2  Continuous Integration System for a Python Cod...   \n",
       "3     cx_Oracle: How do I iterate over a result set?   \n",
       "4  Using 'in' to match an attribute of Python obj...   \n",
       "5                              Class views in Django   \n",
       "6                                   Python and MySQL   \n",
       "7         How do I use Python's itertools.groupby()?   \n",
       "8     Adding a Method to an Existing Object Instance   \n",
       "9      How do you express binary literals in Python?   \n",
       "\n",
       "                                                Body  \\\n",
       "0  I am using the Photoshop's javascript API to f...   \n",
       "1  I have a cross-platform (Python) application w...   \n",
       "2  I'm starting work on a hobby project with a py...   \n",
       "3  There are several ways to iterate over a resul...   \n",
       "4  I don't remember whether I was dreaming or not...   \n",
       "5  Django view points to a function, which can be...   \n",
       "6  I can get Python to work with Postgresql but I...   \n",
       "7  I haven't been able to find an understandable ...   \n",
       "8  I've read that it is possible to add a method ...   \n",
       "9  How do you express an integer as a binary numb...   \n",
       "\n",
       "                          Tags  \n",
       "0                [python, osx]  \n",
       "1     [python, windows, image]  \n",
       "2                     [python]  \n",
       "3      [python, sql, database]  \n",
       "4             [python, arrays]  \n",
       "5        [python, django, oop]  \n",
       "6  [python, mysql, postgresql]  \n",
       "7                     [python]  \n",
       "8                [python, oop]  \n",
       "9                     [python]  "
      ]
     },
     "execution_count": 29,
     "metadata": {},
     "output_type": "execute_result"
    }
   ],
   "source": [
    "filtered_questions.head(10)"
   ]
  },
  {
   "cell_type": "code",
   "execution_count": 30,
   "id": "761263f4",
   "metadata": {
    "id": "761263f4"
   },
   "outputs": [],
   "source": [
    "X1 = filtered_questions['Body']\n",
    "X2 = filtered_questions['Title']\n",
    "y = filtered_questions['Tags']"
   ]
  },
  {
   "cell_type": "code",
   "execution_count": 31,
   "id": "921956f7",
   "metadata": {
    "id": "921956f7"
   },
   "outputs": [],
   "source": [
    "vectorizer_X1 = TfidfVectorizer(analyzer = 'word',\n",
    "                                       min_df=0.0,\n",
    "                                       max_df = 1.0,\n",
    "                                       strip_accents = None,\n",
    "                                       encoding = 'utf-8', \n",
    "                                       preprocessor=None,\n",
    "                                       token_pattern=r\"(?u)\\S\\S+\",\n",
    "                                       max_features=1000)\n",
    "\n",
    "vectorizer_X2 = TfidfVectorizer(analyzer = 'word',\n",
    "                                       min_df=0.0,\n",
    "                                       max_df = 1.0,\n",
    "                                       strip_accents = None,\n",
    "                                       encoding = 'utf-8', \n",
    "                                       preprocessor=None,\n",
    "                                       token_pattern=r\"(?u)\\S\\S+\",\n",
    "                                       max_features=1000)"
   ]
  },
  {
   "cell_type": "code",
   "execution_count": 32,
   "id": "9e01cc68",
   "metadata": {
    "id": "9e01cc68"
   },
   "outputs": [],
   "source": [
    "X1_tfidf = vectorizer_X1.fit_transform(X1)\n",
    "X2_tfidf = vectorizer_X2.fit_transform(X2)"
   ]
  },
  {
   "cell_type": "code",
   "execution_count": 33,
   "id": "8032c3be",
   "metadata": {
    "id": "8032c3be"
   },
   "outputs": [],
   "source": [
    "X_tfidf = hstack([X1_tfidf,X2_tfidf])"
   ]
  },
  {
   "cell_type": "code",
   "execution_count": 34,
   "id": "ba2960b4",
   "metadata": {
    "id": "ba2960b4"
   },
   "outputs": [],
   "source": [
    "multilabel_binarizer = MultiLabelBinarizer()\n",
    "y_bin = multilabel_binarizer.fit_transform(y)"
   ]
  },
  {
   "cell_type": "code",
   "execution_count": 35,
   "id": "bbb8ebdb",
   "metadata": {
    "id": "bbb8ebdb"
   },
   "outputs": [],
   "source": [
    "X_train, X_test, y_train, y_test = train_test_split(X_tfidf, y_bin, test_size = 0.2, random_state = 0)"
   ]
  },
  {
   "cell_type": "code",
   "execution_count": 36,
   "id": "37974f94",
   "metadata": {
    "id": "37974f94"
   },
   "outputs": [],
   "source": [
    "def avg_jacard(y_true,y_pred):\n",
    "    jacard = np.minimum(y_true,y_pred).sum(axis=1) / np.maximum(y_true,y_pred).sum(axis=1)\n",
    "    \n",
    "    return jacard.mean()*100\n",
    "\n",
    "def print_score(y_pred, clf):\n",
    "    print(\"Clf: \", clf.__class__.__name__)\n",
    "    print(\"Jacard score: {}\".format(avg_jacard(y_test, y_pred)))\n",
    "    print(\"Hamming loss: {}\".format(hamming_loss(y_pred, y_test)*100))\n",
    "    print(\"---\") "
   ]
  },
  {
   "cell_type": "code",
   "execution_count": 37,
   "id": "162a0e41",
   "metadata": {
    "id": "162a0e41"
   },
   "outputs": [
    {
     "name": "stderr",
     "output_type": "stream",
     "text": [
      "C:\\Users\\win 10\\anaconda3\\lib\\site-packages\\sklearn\\multiclass.py:79: UserWarning: Label 68 is present in all training examples.\n",
      "  warnings.warn(\n"
     ]
    },
    {
     "name": "stdout",
     "output_type": "stream",
     "text": [
      "Clf:  SGDClassifier\n",
      "Jacard score: 75.72882288228821\n",
      "Hamming loss: 0.6324846770391325\n",
      "---\n"
     ]
    }
   ],
   "source": [
    "sgd = SGDClassifier()\n",
    "clf = OneVsRestClassifier(sgd)\n",
    "clf.fit(X_train, y_train)\n",
    "y_pred = clf.predict(X_test)\n",
    "print_score(y_pred, sgd)"
   ]
  },
  {
   "cell_type": "code",
   "execution_count": 38,
   "id": "ccecd221",
   "metadata": {
    "id": "ccecd221"
   },
   "outputs": [
    {
     "name": "stdout",
     "output_type": "stream",
     "text": [
      "algorithm\n",
      "[[8388    2]\n",
      " [  86    8]]\n",
      "\n",
      "argparse\n",
      "[[8455    0]\n",
      " [   7   22]]\n",
      "\n",
      "arrays\n",
      "[[8397    0]\n",
      " [  87    0]]\n",
      "\n",
      "beautifulsoup\n",
      "[[8429    1]\n",
      " [  30   24]]\n",
      "\n",
      "c\n",
      "[[8407    0]\n",
      " [  77    0]]\n",
      "\n",
      "c++\n",
      "[[8403    7]\n",
      " [  49   25]]\n",
      "\n",
      "celery\n",
      "[[8428    1]\n",
      " [   7   48]]\n",
      "\n",
      "class\n",
      "[[8419    0]\n",
      " [  65    0]]\n",
      "\n",
      "csv\n",
      "[[8418    8]\n",
      " [  22   36]]\n",
      "\n",
      "cython\n",
      "[[8437    1]\n",
      " [  14   32]]\n",
      "\n",
      "database\n",
      "[[8446    0]\n",
      " [  38    0]]\n",
      "\n",
      "dataframe\n",
      "[[8429    0]\n",
      " [  55    0]]\n",
      "\n",
      "datetime\n",
      "[[8394    8]\n",
      " [  57   25]]\n",
      "\n",
      "debugging\n",
      "[[8443    0]\n",
      " [  40    1]]\n",
      "\n",
      "decorator\n",
      "[[8426   10]\n",
      " [  18   30]]\n",
      "\n",
      "dictionary\n",
      "[[8286   41]\n",
      " [  59   98]]\n",
      "\n",
      "django\n",
      "[[7710   27]\n",
      " [ 158  589]]\n",
      "\n",
      "django-admin\n",
      "[[8422   10]\n",
      " [  28   24]]\n",
      "\n",
      "django-models\n",
      "[[8404    0]\n",
      " [  80    0]]\n",
      "\n",
      "django-templates\n",
      "[[8451    0]\n",
      " [  33    0]]\n",
      "\n",
      "exception\n",
      "[[8423    1]\n",
      " [  60    0]]\n",
      "\n",
      "file\n",
      "[[8427    0]\n",
      " [  57    0]]\n",
      "\n",
      "file-io\n",
      "[[8445    0]\n",
      " [  39    0]]\n",
      "\n",
      "flask\n",
      "[[8311    4]\n",
      " [  61  108]]\n",
      "\n",
      "function\n",
      "[[8437    0]\n",
      " [  47    0]]\n",
      "\n",
      "generator\n",
      "[[8439    9]\n",
      " [  24   12]]\n",
      "\n",
      "google-app-engine\n",
      "[[8363    5]\n",
      " [  56   60]]\n",
      "\n",
      "html\n",
      "[[8441    2]\n",
      " [  41    0]]\n",
      "\n",
      "http\n",
      "[[8443    0]\n",
      " [  41    0]]\n",
      "\n",
      "image\n",
      "[[8442    0]\n",
      " [  42    0]]\n",
      "\n",
      "image-processing\n",
      "[[8441    0]\n",
      " [  43    0]]\n",
      "\n",
      "import\n",
      "[[8423    0]\n",
      " [  61    0]]\n",
      "\n",
      "inheritance\n",
      "[[8444    0]\n",
      " [  40    0]]\n",
      "\n",
      "ipython\n",
      "[[8422    6]\n",
      " [  17   39]]\n",
      "\n",
      "java\n",
      "[[8414    2]\n",
      " [  48   20]]\n",
      "\n",
      "javascript\n",
      "[[8418    2]\n",
      " [  40   24]]\n",
      "\n",
      "jinja2\n",
      "[[8452    0]\n",
      " [  20   12]]\n",
      "\n",
      "json\n",
      "[[8382   11]\n",
      " [  28   63]]\n",
      "\n",
      "linux\n",
      "[[8354    7]\n",
      " [ 104   19]]\n",
      "\n",
      "list\n",
      "[[8192   36]\n",
      " [ 180   76]]\n",
      "\n",
      "list-comprehension\n",
      "[[8437    3]\n",
      " [  27   17]]\n",
      "\n",
      "logging\n",
      "[[8418    4]\n",
      " [  29   33]]\n",
      "\n",
      "lxml\n",
      "[[8458    0]\n",
      " [   7   19]]\n",
      "\n",
      "machine-learning\n",
      "[[8438    0]\n",
      " [  46    0]]\n",
      "\n",
      "math\n",
      "[[8434    0]\n",
      " [  50    0]]\n",
      "\n",
      "matplotlib\n",
      "[[8152   19]\n",
      " [  60  253]]\n",
      "\n",
      "module\n",
      "[[8442    0]\n",
      " [  42    0]]\n",
      "\n",
      "mongodb\n",
      "[[8443    0]\n",
      " [  30   11]]\n",
      "\n",
      "multiprocessing\n",
      "[[8396    4]\n",
      " [  36   48]]\n",
      "\n",
      "multithreading\n",
      "[[8409    8]\n",
      " [  40   27]]\n",
      "\n",
      "mysql\n",
      "[[8402    4]\n",
      " [  41   37]]\n",
      "\n",
      "nlp\n",
      "[[8436    0]\n",
      " [  48    0]]\n",
      "\n",
      "nltk\n",
      "[[8435    0]\n",
      " [  25   24]]\n",
      "\n",
      "numpy\n",
      "[[7971   26]\n",
      " [ 204  283]]\n",
      "\n",
      "oop\n",
      "[[8449    0]\n",
      " [  35    0]]\n",
      "\n",
      "opencv\n",
      "[[8428    0]\n",
      " [  22   34]]\n",
      "\n",
      "optimization\n",
      "[[8453    0]\n",
      " [  31    0]]\n",
      "\n",
      "osx\n",
      "[[8384   13]\n",
      " [  58   29]]\n",
      "\n",
      "pandas\n",
      "[[8195    4]\n",
      " [  43  242]]\n",
      "\n",
      "parsing\n",
      "[[8425    0]\n",
      " [  59    0]]\n",
      "\n",
      "performance\n",
      "[[8367    2]\n",
      " [ 115    0]]\n",
      "\n",
      "php\n",
      "[[8452    3]\n",
      " [  19   10]]\n",
      "\n",
      "pickle\n",
      "[[8445    3]\n",
      " [  20   16]]\n",
      "\n",
      "pip\n",
      "[[8362   13]\n",
      " [  44   65]]\n",
      "\n",
      "plot\n",
      "[[8431    0]\n",
      " [  53    0]]\n",
      "\n",
      "postgresql\n",
      "[[8450    1]\n",
      " [  27    6]]\n",
      "\n",
      "pycharm\n",
      "[[8440    1]\n",
      " [  15   28]]\n",
      "\n",
      "pyqt\n",
      "[[8445    1]\n",
      " [  28   10]]\n",
      "\n",
      "python\n",
      "[[8484]]\n",
      "\n",
      "python-2.7\n",
      "[[8204    1]\n",
      " [ 279    0]]\n",
      "\n",
      "python-2.x\n",
      "[[8456    0]\n",
      " [  28    0]]\n",
      "\n",
      "python-3.x\n",
      "[[8221    8]\n",
      " [ 241   14]]\n",
      "\n",
      "python-imaging-library\n",
      "[[8435    1]\n",
      " [  21   27]]\n",
      "\n",
      "python-import\n",
      "[[8465    0]\n",
      " [  19    0]]\n",
      "\n",
      "python-requests\n",
      "[[8438    5]\n",
      " [  15   26]]\n",
      "\n",
      "random\n",
      "[[8430   16]\n",
      " [  21   17]]\n",
      "\n",
      "regex\n",
      "[[8345    5]\n",
      " [  57   77]]\n",
      "\n",
      "ruby\n",
      "[[8439    0]\n",
      " [  31   14]]\n",
      "\n",
      "scikit-learn\n",
      "[[8434    1]\n",
      " [  36   13]]\n",
      "\n",
      "scipy\n",
      "[[8337    5]\n",
      " [ 102   40]]\n",
      "\n",
      "scrapy\n",
      "[[8441    0]\n",
      " [  10   33]]\n",
      "\n",
      "selenium\n",
      "[[8421    2]\n",
      " [  17   44]]\n",
      "\n",
      "setuptools\n",
      "[[8440    3]\n",
      " [  35    6]]\n",
      "\n",
      "sockets\n",
      "[[8443    6]\n",
      " [  24   11]]\n",
      "\n",
      "sorting\n",
      "[[8418   18]\n",
      " [  25   23]]\n",
      "\n",
      "sql\n",
      "[[8446    0]\n",
      " [  38    0]]\n",
      "\n",
      "sqlalchemy\n",
      "[[8382    1]\n",
      " [  32   69]]\n",
      "\n",
      "sqlite\n",
      "[[8448    4]\n",
      " [  24    8]]\n",
      "\n",
      "string\n",
      "[[8321    3]\n",
      " [ 157    3]]\n",
      "\n",
      "subprocess\n",
      "[[8409    7]\n",
      " [  43   25]]\n",
      "\n",
      "tkinter\n",
      "[[8430    0]\n",
      " [  24   30]]\n",
      "\n",
      "tuples\n",
      "[[8439    0]\n",
      " [  40    5]]\n",
      "\n",
      "twisted\n",
      "[[8456    3]\n",
      " [   9   16]]\n",
      "\n",
      "ubuntu\n",
      "[[8437   11]\n",
      " [  24   12]]\n",
      "\n",
      "unicode\n",
      "[[8382   11]\n",
      " [  43   48]]\n",
      "\n",
      "unit-testing\n",
      "[[8388    9]\n",
      " [  44   43]]\n",
      "\n",
      "urllib2\n",
      "[[8447    1]\n",
      " [  21   15]]\n",
      "\n",
      "virtualenv\n",
      "[[8409    6]\n",
      " [  27   42]]\n",
      "\n",
      "windows\n",
      "[[8370    2]\n",
      " [ 110    2]]\n",
      "\n",
      "xml\n",
      "[[8437    2]\n",
      " [  15   30]]\n",
      "\n"
     ]
    }
   ],
   "source": [
    "for i in range(y_train.shape[1]):\n",
    "    print(multilabel_binarizer.classes_[i])\n",
    "    print(confusion_matrix(y_test[:,i], y_pred[:,i]))\n",
    "    print(\"\")"
   ]
  },
  {
   "cell_type": "code",
   "execution_count": 39,
   "id": "924ebd40",
   "metadata": {
    "id": "924ebd40"
   },
   "outputs": [],
   "source": [
    "samq = '''In a multilabel classification problem, i use MultiLabelBinarizer to transform my 20 text labels into a binary list of zeros and ones.\n",
    "\n",
    "After prediction I get my list of 20 binary values, and I would like to output the corresponding text labels.\n",
    "\n",
    "I am just wondering whether MultiLabelBinarizer() provides a getting back transformation or I should do it manually.\n",
    "\n",
    "\n",
    "'''"
   ]
  },
  {
   "cell_type": "code",
   "execution_count": 40,
   "id": "664741dc",
   "metadata": {
    "id": "664741dc"
   },
   "outputs": [
    {
     "name": "stdout",
     "output_type": "stream",
     "text": [
      "In a multilabel classification problem, i use MultiLabelBinarizer to transform my 20 text labels into a binary list of zeros and ones.\n",
      "\n",
      "After prediction I get my list of 20 binary values, and I would like to output the corresponding text labels.\n",
      "\n",
      "I am just wondering whether MultiLabelBinarizer() provides a getting back transformation or I should do it manually.\n",
      "\n",
      "\n",
      "\n"
     ]
    }
   ],
   "source": [
    "print(samq)"
   ]
  },
  {
   "cell_type": "code",
   "execution_count": 41,
   "id": "6beadbd7",
   "metadata": {
    "id": "6beadbd7"
   },
   "outputs": [],
   "source": [
    "samq = BeautifulSoup(samq).get_text()"
   ]
  },
  {
   "cell_type": "code",
   "execution_count": 45,
   "id": "ac1fea37",
   "metadata": {},
   "outputs": [
    {
     "data": {
      "text/plain": [
       "'In a multilabel classification problem, i use MultiLabelBinarizer to transform my 20 text labels into a binary list of zeros and ones.\\n\\nAfter prediction I get my list of 20 binary values, and I would like to output the corresponding text labels.\\n\\nI am just wondering whether MultiLabelBinarizer() provides a getting back transformation or I should do it manually.'"
      ]
     },
     "execution_count": 45,
     "metadata": {},
     "output_type": "execute_result"
    }
   ],
   "source": [
    "samq"
   ]
  },
  {
   "cell_type": "code",
   "execution_count": 44,
   "id": "9c2493e7",
   "metadata": {
    "id": "9c2493e7"
   },
   "outputs": [
    {
     "ename": "NameError",
     "evalue": "name 'clean_punct' is not defined",
     "output_type": "error",
     "traceback": [
      "\u001b[1;31m---------------------------------------------------------------------------\u001b[0m",
      "\u001b[1;31mNameError\u001b[0m                                 Traceback (most recent call last)",
      "Input \u001b[1;32mIn [44]\u001b[0m, in \u001b[0;36m<cell line: 2>\u001b[1;34m()\u001b[0m\n\u001b[0;32m      1\u001b[0m samq \u001b[38;5;241m=\u001b[39m clean_text(samq)\n\u001b[1;32m----> 2\u001b[0m samq \u001b[38;5;241m=\u001b[39m \u001b[43mclean_punct\u001b[49m(samq)\n",
      "\u001b[1;31mNameError\u001b[0m: name 'clean_punct' is not defined"
     ]
    }
   ],
   "source": [
    "samq = clean_text(samq)\n",
    "samq = clean_punct(samq)"
   ]
  },
  {
   "cell_type": "code",
   "execution_count": 46,
   "id": "7f48684b",
   "metadata": {
    "id": "7f48684b"
   },
   "outputs": [
    {
     "ename": "NameError",
     "evalue": "name 'lemitizeWords' is not defined",
     "output_type": "error",
     "traceback": [
      "\u001b[1;31m---------------------------------------------------------------------------\u001b[0m",
      "\u001b[1;31mNameError\u001b[0m                                 Traceback (most recent call last)",
      "Input \u001b[1;32mIn [46]\u001b[0m, in \u001b[0;36m<cell line: 1>\u001b[1;34m()\u001b[0m\n\u001b[1;32m----> 1\u001b[0m samq \u001b[38;5;241m=\u001b[39m \u001b[43mlemitizeWords\u001b[49m(samq)\n\u001b[0;32m      2\u001b[0m samq \u001b[38;5;241m=\u001b[39m stopWordsRemove(samq)\n",
      "\u001b[1;31mNameError\u001b[0m: name 'lemitizeWords' is not defined"
     ]
    }
   ],
   "source": [
    "samq = lemitizeWords(samq)\n",
    "samq = stopWordsRemove(samq)"
   ]
  },
  {
   "cell_type": "code",
   "execution_count": 47,
   "id": "c648191d",
   "metadata": {
    "id": "c648191d"
   },
   "outputs": [
    {
     "data": {
      "text/plain": [
       "'In a multilabel classification problem, i use MultiLabelBinarizer to transform my 20 text labels into a binary list of zeros and ones.\\n\\nAfter prediction I get my list of 20 binary values, and I would like to output the corresponding text labels.\\n\\nI am just wondering whether MultiLabelBinarizer() provides a getting back transformation or I should do it manually.'"
      ]
     },
     "execution_count": 47,
     "metadata": {},
     "output_type": "execute_result"
    }
   ],
   "source": [
    "samq"
   ]
  },
  {
   "cell_type": "code",
   "execution_count": 48,
   "id": "918174bd",
   "metadata": {
    "id": "918174bd"
   },
   "outputs": [],
   "source": [
    "samq = vectorizer_X1.transform([samq])"
   ]
  },
  {
   "cell_type": "code",
   "execution_count": 49,
   "id": "aa9df674",
   "metadata": {
    "id": "aa9df674"
   },
   "outputs": [
    {
     "data": {
      "text/plain": [
       "<1x1000 sparse matrix of type '<class 'numpy.float64'>'\n",
       "\twith 27 stored elements in Compressed Sparse Row format>"
      ]
     },
     "execution_count": 49,
     "metadata": {},
     "output_type": "execute_result"
    }
   ],
   "source": [
    "samq"
   ]
  },
  {
   "cell_type": "code",
   "execution_count": null,
   "id": "2ae5f304",
   "metadata": {
    "id": "2ae5f304"
   },
   "outputs": [],
   "source": [
    "samt = 'Scikit Learn Multilabel Classification, Getting back labels from MultiLabelBinarizer'\n",
    "samt = clean_text(samt)\n",
    "samt = clean_punct(samt)\n",
    "samt = lemitizeWords(samt)\n",
    "samt = stopWordsRemove(samt)\n",
    "print(samt)"
   ]
  },
  {
   "cell_type": "code",
   "execution_count": null,
   "id": "82aebd5f",
   "metadata": {
    "id": "82aebd5f"
   },
   "outputs": [],
   "source": [
    "samt = vectorizer_X2.transform([samt])"
   ]
  },
  {
   "cell_type": "code",
   "execution_count": null,
   "id": "adc7bb45",
   "metadata": {
    "id": "adc7bb45"
   },
   "outputs": [],
   "source": [
    "samt"
   ]
  },
  {
   "cell_type": "code",
   "execution_count": null,
   "id": "6d1ed2f6",
   "metadata": {
    "id": "6d1ed2f6"
   },
   "outputs": [],
   "source": [
    "q = hstack([samq, samt])"
   ]
  },
  {
   "cell_type": "code",
   "execution_count": null,
   "id": "f843c2e2",
   "metadata": {
    "id": "f843c2e2"
   },
   "outputs": [],
   "source": [
    "multilabel_binarizer.inverse_transform(clf.predict(q))"
   ]
  }
 ],
 "metadata": {
  "colab": {
   "provenance": []
  },
  "kernelspec": {
   "display_name": "Python 3 (ipykernel)",
   "language": "python",
   "name": "python3"
  },
  "language_info": {
   "codemirror_mode": {
    "name": "ipython",
    "version": 3
   },
   "file_extension": ".py",
   "mimetype": "text/x-python",
   "name": "python",
   "nbconvert_exporter": "python",
   "pygments_lexer": "ipython3",
   "version": "3.9.12"
  }
 },
 "nbformat": 4,
 "nbformat_minor": 5
}
