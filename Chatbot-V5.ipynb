{
 "cells": [
  {
   "cell_type": "code",
   "execution_count": 1,
   "id": "499c780e",
   "metadata": {
    "colab": {
     "base_uri": "https://localhost:8080/",
     "height": 383
    },
    "executionInfo": {
     "elapsed": 184,
     "status": "error",
     "timestamp": 1698432323410,
     "user": {
      "displayName": "Jay Paun",
      "userId": "02230944815040819432"
     },
     "user_tz": 240
    },
    "id": "499c780e",
    "outputId": "53a192d4-5a16-4546-ce6b-ae7da4b2fee1"
   },
   "outputs": [],
   "source": [
    "# Load data preprocessing libs\n",
    "import pandas as pd   # dataset\n",
    "import numpy as np  # maths\n",
    "from datetime import datetime,date # date time lib\n",
    "\n",
    "import re\n",
    "from bs4 import BeautifulSoup  # removing html tags\n",
    "\n",
    "# Load vectorizer and similarity measure\n",
    "from sklearn.feature_extraction.text import TfidfVectorizer  # term freq inverse doc. freq.\n",
    "from sklearn.metrics.pairwise import cosine_similarity  # measuring the similarity of text\n",
    "\n",
    "import tkinter   # User interface\n",
    "import threading\n",
    "from tkinter import *\n",
    "from tkinter import messagebox\n",
    "import speech_recognition as speech # taking input through voice\n",
    "import import_ipynb\n",
    "# from mailing import mail"
   ]
  },
  {
   "cell_type": "code",
   "execution_count": 2,
   "id": "9310b1f3",
   "metadata": {
    "colab": {
     "base_uri": "https://localhost:8080/",
     "height": 338
    },
    "executionInfo": {
     "elapsed": 13,
     "status": "error",
     "timestamp": 1698432323604,
     "user": {
      "displayName": "Jay Paun",
      "userId": "02230944815040819432"
     },
     "user_tz": 240
    },
    "id": "9310b1f3",
    "outputId": "428ae36a-ab9b-4f8b-f97f-b17d8ff95e7b"
   },
   "outputs": [],
   "source": [
    "q = pd.read_csv(\"Dataset/Questions.csv\",encoding='latin-1')\n",
    "an = pd.read_csv(\"Dataset/AnswersV2.csv\",encoding='latin-1')"
   ]
  },
  {
   "cell_type": "code",
   "execution_count": 3,
   "id": "cd50d5b2",
   "metadata": {
    "executionInfo": {
     "elapsed": 10,
     "status": "aborted",
     "timestamp": 1698432323604,
     "user": {
      "displayName": "Jay Paun",
      "userId": "02230944815040819432"
     },
     "user_tz": 240
    },
    "id": "cd50d5b2"
   },
   "outputs": [
    {
     "data": {
      "text/html": [
       "<div>\n",
       "<style scoped>\n",
       "    .dataframe tbody tr th:only-of-type {\n",
       "        vertical-align: middle;\n",
       "    }\n",
       "\n",
       "    .dataframe tbody tr th {\n",
       "        vertical-align: top;\n",
       "    }\n",
       "\n",
       "    .dataframe thead th {\n",
       "        text-align: right;\n",
       "    }\n",
       "</style>\n",
       "<table border=\"1\" class=\"dataframe\">\n",
       "  <thead>\n",
       "    <tr style=\"text-align: right;\">\n",
       "      <th></th>\n",
       "      <th>AId</th>\n",
       "      <th>OwnerUserId</th>\n",
       "      <th>CreationDate</th>\n",
       "      <th>QId</th>\n",
       "      <th>Score</th>\n",
       "      <th>Body</th>\n",
       "      <th>latest_score</th>\n",
       "      <th>alternate</th>\n",
       "      <th>date</th>\n",
       "    </tr>\n",
       "  </thead>\n",
       "  <tbody>\n",
       "    <tr>\n",
       "      <th>0</th>\n",
       "      <td>536</td>\n",
       "      <td>161.0</td>\n",
       "      <td>2008-08-02T18:49:07Z</td>\n",
       "      <td>502</td>\n",
       "      <td>9</td>\n",
       "      <td>&lt;p&gt;You can use ImageMagick's convert utility f...</td>\n",
       "      <td>9</td>\n",
       "      <td>9</td>\n",
       "      <td>2022-07-08</td>\n",
       "    </tr>\n",
       "    <tr>\n",
       "      <th>1</th>\n",
       "      <td>538</td>\n",
       "      <td>156.0</td>\n",
       "      <td>2008-08-02T18:56:56Z</td>\n",
       "      <td>535</td>\n",
       "      <td>23</td>\n",
       "      <td>&lt;p&gt;One possibility is Hudson.  It's written in...</td>\n",
       "      <td>23</td>\n",
       "      <td>23</td>\n",
       "      <td>2022-07-08</td>\n",
       "    </tr>\n",
       "    <tr>\n",
       "      <th>2</th>\n",
       "      <td>541</td>\n",
       "      <td>157.0</td>\n",
       "      <td>2008-08-02T19:06:40Z</td>\n",
       "      <td>535</td>\n",
       "      <td>20</td>\n",
       "      <td>&lt;p&gt;We run &lt;a href=\"http://buildbot.net/trac\"&gt;B...</td>\n",
       "      <td>20</td>\n",
       "      <td>20</td>\n",
       "      <td>2022-07-08</td>\n",
       "    </tr>\n",
       "    <tr>\n",
       "      <th>3</th>\n",
       "      <td>595</td>\n",
       "      <td>116.0</td>\n",
       "      <td>2008-08-03T01:17:36Z</td>\n",
       "      <td>594</td>\n",
       "      <td>25</td>\n",
       "      <td>&lt;p&gt;The canonical way is to use the built-in cu...</td>\n",
       "      <td>25</td>\n",
       "      <td>25</td>\n",
       "      <td>2022-07-08</td>\n",
       "    </tr>\n",
       "    <tr>\n",
       "      <th>4</th>\n",
       "      <td>660</td>\n",
       "      <td>197.0</td>\n",
       "      <td>2008-08-03T12:09:18Z</td>\n",
       "      <td>535</td>\n",
       "      <td>14</td>\n",
       "      <td>&lt;p&gt;Second the Buildbot - Trac integration. You...</td>\n",
       "      <td>14</td>\n",
       "      <td>14</td>\n",
       "      <td>2022-07-08</td>\n",
       "    </tr>\n",
       "  </tbody>\n",
       "</table>\n",
       "</div>"
      ],
      "text/plain": [
       "   AId  OwnerUserId          CreationDate  QId  Score  \\\n",
       "0  536        161.0  2008-08-02T18:49:07Z  502      9   \n",
       "1  538        156.0  2008-08-02T18:56:56Z  535     23   \n",
       "2  541        157.0  2008-08-02T19:06:40Z  535     20   \n",
       "3  595        116.0  2008-08-03T01:17:36Z  594     25   \n",
       "4  660        197.0  2008-08-03T12:09:18Z  535     14   \n",
       "\n",
       "                                                Body  latest_score  alternate  \\\n",
       "0  <p>You can use ImageMagick's convert utility f...             9          9   \n",
       "1  <p>One possibility is Hudson.  It's written in...            23         23   \n",
       "2  <p>We run <a href=\"http://buildbot.net/trac\">B...            20         20   \n",
       "3  <p>The canonical way is to use the built-in cu...            25         25   \n",
       "4  <p>Second the Buildbot - Trac integration. You...            14         14   \n",
       "\n",
       "         date  \n",
       "0  2022-07-08  \n",
       "1  2022-07-08  \n",
       "2  2022-07-08  \n",
       "3  2022-07-08  \n",
       "4  2022-07-08  "
      ]
     },
     "execution_count": 3,
     "metadata": {},
     "output_type": "execute_result"
    }
   ],
   "source": [
    "an.head()"
   ]
  },
  {
   "cell_type": "code",
   "execution_count": 4,
   "id": "e6294c92",
   "metadata": {
    "executionInfo": {
     "elapsed": 10,
     "status": "aborted",
     "timestamp": 1698432323605,
     "user": {
      "displayName": "Jay Paun",
      "userId": "02230944815040819432"
     },
     "user_tz": 240
    },
    "id": "e6294c92"
   },
   "outputs": [
    {
     "data": {
      "text/html": [
       "<div>\n",
       "<style scoped>\n",
       "    .dataframe tbody tr th:only-of-type {\n",
       "        vertical-align: middle;\n",
       "    }\n",
       "\n",
       "    .dataframe tbody tr th {\n",
       "        vertical-align: top;\n",
       "    }\n",
       "\n",
       "    .dataframe thead th {\n",
       "        text-align: right;\n",
       "    }\n",
       "</style>\n",
       "<table border=\"1\" class=\"dataframe\">\n",
       "  <thead>\n",
       "    <tr style=\"text-align: right;\">\n",
       "      <th></th>\n",
       "      <th>AId</th>\n",
       "      <th>OwnerUserId</th>\n",
       "      <th>CreationDate</th>\n",
       "      <th>QId</th>\n",
       "      <th>Score</th>\n",
       "      <th>Body</th>\n",
       "      <th>latest_score</th>\n",
       "      <th>alternate</th>\n",
       "      <th>date</th>\n",
       "    </tr>\n",
       "  </thead>\n",
       "  <tbody>\n",
       "    <tr>\n",
       "      <th>0</th>\n",
       "      <td>536</td>\n",
       "      <td>161.0</td>\n",
       "      <td>2008-08-02T18:49:07Z</td>\n",
       "      <td>502</td>\n",
       "      <td>9</td>\n",
       "      <td>&lt;p&gt;You can use ImageMagick's convert utility f...</td>\n",
       "      <td>9</td>\n",
       "      <td>9</td>\n",
       "      <td>2022-07-08</td>\n",
       "    </tr>\n",
       "    <tr>\n",
       "      <th>1</th>\n",
       "      <td>538</td>\n",
       "      <td>156.0</td>\n",
       "      <td>2008-08-02T18:56:56Z</td>\n",
       "      <td>535</td>\n",
       "      <td>23</td>\n",
       "      <td>&lt;p&gt;One possibility is Hudson.  It's written in...</td>\n",
       "      <td>23</td>\n",
       "      <td>23</td>\n",
       "      <td>2022-07-08</td>\n",
       "    </tr>\n",
       "    <tr>\n",
       "      <th>2</th>\n",
       "      <td>541</td>\n",
       "      <td>157.0</td>\n",
       "      <td>2008-08-02T19:06:40Z</td>\n",
       "      <td>535</td>\n",
       "      <td>20</td>\n",
       "      <td>&lt;p&gt;We run &lt;a href=\"http://buildbot.net/trac\"&gt;B...</td>\n",
       "      <td>20</td>\n",
       "      <td>20</td>\n",
       "      <td>2022-07-08</td>\n",
       "    </tr>\n",
       "    <tr>\n",
       "      <th>3</th>\n",
       "      <td>595</td>\n",
       "      <td>116.0</td>\n",
       "      <td>2008-08-03T01:17:36Z</td>\n",
       "      <td>594</td>\n",
       "      <td>25</td>\n",
       "      <td>&lt;p&gt;The canonical way is to use the built-in cu...</td>\n",
       "      <td>25</td>\n",
       "      <td>25</td>\n",
       "      <td>2022-07-08</td>\n",
       "    </tr>\n",
       "    <tr>\n",
       "      <th>4</th>\n",
       "      <td>660</td>\n",
       "      <td>197.0</td>\n",
       "      <td>2008-08-03T12:09:18Z</td>\n",
       "      <td>535</td>\n",
       "      <td>14</td>\n",
       "      <td>&lt;p&gt;Second the Buildbot - Trac integration. You...</td>\n",
       "      <td>14</td>\n",
       "      <td>14</td>\n",
       "      <td>2022-07-08</td>\n",
       "    </tr>\n",
       "  </tbody>\n",
       "</table>\n",
       "</div>"
      ],
      "text/plain": [
       "   AId  OwnerUserId          CreationDate  QId  Score  \\\n",
       "0  536        161.0  2008-08-02T18:49:07Z  502      9   \n",
       "1  538        156.0  2008-08-02T18:56:56Z  535     23   \n",
       "2  541        157.0  2008-08-02T19:06:40Z  535     20   \n",
       "3  595        116.0  2008-08-03T01:17:36Z  594     25   \n",
       "4  660        197.0  2008-08-03T12:09:18Z  535     14   \n",
       "\n",
       "                                                Body  latest_score  alternate  \\\n",
       "0  <p>You can use ImageMagick's convert utility f...             9          9   \n",
       "1  <p>One possibility is Hudson.  It's written in...            23         23   \n",
       "2  <p>We run <a href=\"http://buildbot.net/trac\">B...            20         20   \n",
       "3  <p>The canonical way is to use the built-in cu...            25         25   \n",
       "4  <p>Second the Buildbot - Trac integration. You...            14         14   \n",
       "\n",
       "         date  \n",
       "0  2022-07-08  \n",
       "1  2022-07-08  \n",
       "2  2022-07-08  \n",
       "3  2022-07-08  \n",
       "4  2022-07-08  "
      ]
     },
     "execution_count": 4,
     "metadata": {},
     "output_type": "execute_result"
    }
   ],
   "source": [
    "an.rename(columns={'ParentId':'QId'},inplace=True)\n",
    "an.head()"
   ]
  },
  {
   "cell_type": "code",
   "execution_count": 5,
   "id": "3c3a7943",
   "metadata": {
    "executionInfo": {
     "elapsed": 10,
     "status": "aborted",
     "timestamp": 1698432323606,
     "user": {
      "displayName": "Jay Paun",
      "userId": "02230944815040819432"
     },
     "user_tz": 240
    },
    "id": "3c3a7943"
   },
   "outputs": [],
   "source": [
    "q.rename(columns={'Id':'QId'},inplace=True)\n",
    "an.rename(columns={'Id':'AId'},inplace=True)"
   ]
  },
  {
   "cell_type": "code",
   "execution_count": 6,
   "id": "fb0c57ac",
   "metadata": {
    "executionInfo": {
     "elapsed": 510,
     "status": "aborted",
     "timestamp": 1698432323606,
     "user": {
      "displayName": "Jay Paun",
      "userId": "02230944815040819432"
     },
     "user_tz": 240
    },
    "id": "fb0c57ac"
   },
   "outputs": [
    {
     "data": {
      "text/html": [
       "<div>\n",
       "<style scoped>\n",
       "    .dataframe tbody tr th:only-of-type {\n",
       "        vertical-align: middle;\n",
       "    }\n",
       "\n",
       "    .dataframe tbody tr th {\n",
       "        vertical-align: top;\n",
       "    }\n",
       "\n",
       "    .dataframe thead th {\n",
       "        text-align: right;\n",
       "    }\n",
       "</style>\n",
       "<table border=\"1\" class=\"dataframe\">\n",
       "  <thead>\n",
       "    <tr style=\"text-align: right;\">\n",
       "      <th></th>\n",
       "      <th>AId</th>\n",
       "      <th>OwnerUserId</th>\n",
       "      <th>CreationDate</th>\n",
       "      <th>QId</th>\n",
       "      <th>Score</th>\n",
       "      <th>Body</th>\n",
       "      <th>latest_score</th>\n",
       "      <th>alternate</th>\n",
       "      <th>date</th>\n",
       "    </tr>\n",
       "  </thead>\n",
       "  <tbody>\n",
       "    <tr>\n",
       "      <th>0</th>\n",
       "      <td>536</td>\n",
       "      <td>161.0</td>\n",
       "      <td>2008-08-02T18:49:07Z</td>\n",
       "      <td>502</td>\n",
       "      <td>9</td>\n",
       "      <td>&lt;p&gt;You can use ImageMagick's convert utility f...</td>\n",
       "      <td>9</td>\n",
       "      <td>9</td>\n",
       "      <td>2022-07-08</td>\n",
       "    </tr>\n",
       "    <tr>\n",
       "      <th>1</th>\n",
       "      <td>538</td>\n",
       "      <td>156.0</td>\n",
       "      <td>2008-08-02T18:56:56Z</td>\n",
       "      <td>535</td>\n",
       "      <td>23</td>\n",
       "      <td>&lt;p&gt;One possibility is Hudson.  It's written in...</td>\n",
       "      <td>23</td>\n",
       "      <td>23</td>\n",
       "      <td>2022-07-08</td>\n",
       "    </tr>\n",
       "    <tr>\n",
       "      <th>2</th>\n",
       "      <td>541</td>\n",
       "      <td>157.0</td>\n",
       "      <td>2008-08-02T19:06:40Z</td>\n",
       "      <td>535</td>\n",
       "      <td>20</td>\n",
       "      <td>&lt;p&gt;We run &lt;a href=\"http://buildbot.net/trac\"&gt;B...</td>\n",
       "      <td>20</td>\n",
       "      <td>20</td>\n",
       "      <td>2022-07-08</td>\n",
       "    </tr>\n",
       "    <tr>\n",
       "      <th>3</th>\n",
       "      <td>595</td>\n",
       "      <td>116.0</td>\n",
       "      <td>2008-08-03T01:17:36Z</td>\n",
       "      <td>594</td>\n",
       "      <td>25</td>\n",
       "      <td>&lt;p&gt;The canonical way is to use the built-in cu...</td>\n",
       "      <td>25</td>\n",
       "      <td>25</td>\n",
       "      <td>2022-07-08</td>\n",
       "    </tr>\n",
       "    <tr>\n",
       "      <th>4</th>\n",
       "      <td>660</td>\n",
       "      <td>197.0</td>\n",
       "      <td>2008-08-03T12:09:18Z</td>\n",
       "      <td>535</td>\n",
       "      <td>14</td>\n",
       "      <td>&lt;p&gt;Second the Buildbot - Trac integration. You...</td>\n",
       "      <td>14</td>\n",
       "      <td>14</td>\n",
       "      <td>2022-07-08</td>\n",
       "    </tr>\n",
       "  </tbody>\n",
       "</table>\n",
       "</div>"
      ],
      "text/plain": [
       "   AId  OwnerUserId          CreationDate  QId  Score  \\\n",
       "0  536        161.0  2008-08-02T18:49:07Z  502      9   \n",
       "1  538        156.0  2008-08-02T18:56:56Z  535     23   \n",
       "2  541        157.0  2008-08-02T19:06:40Z  535     20   \n",
       "3  595        116.0  2008-08-03T01:17:36Z  594     25   \n",
       "4  660        197.0  2008-08-03T12:09:18Z  535     14   \n",
       "\n",
       "                                                Body  latest_score  alternate  \\\n",
       "0  <p>You can use ImageMagick's convert utility f...             9          9   \n",
       "1  <p>One possibility is Hudson.  It's written in...            23         23   \n",
       "2  <p>We run <a href=\"http://buildbot.net/trac\">B...            20         20   \n",
       "3  <p>The canonical way is to use the built-in cu...            25         25   \n",
       "4  <p>Second the Buildbot - Trac integration. You...            14         14   \n",
       "\n",
       "         date  \n",
       "0  2022-07-08  \n",
       "1  2022-07-08  \n",
       "2  2022-07-08  \n",
       "3  2022-07-08  \n",
       "4  2022-07-08  "
      ]
     },
     "execution_count": 6,
     "metadata": {},
     "output_type": "execute_result"
    }
   ],
   "source": [
    "an = an[an['Score']>5]\n",
    "an.head()"
   ]
  },
  {
   "cell_type": "code",
   "execution_count": 7,
   "id": "2105797a",
   "metadata": {
    "executionInfo": {
     "elapsed": 13,
     "status": "aborted",
     "timestamp": 1698432323803,
     "user": {
      "displayName": "Jay Paun",
      "userId": "02230944815040819432"
     },
     "user_tz": 240
    },
    "id": "2105797a"
   },
   "outputs": [
    {
     "data": {
      "text/html": [
       "<div>\n",
       "<style scoped>\n",
       "    .dataframe tbody tr th:only-of-type {\n",
       "        vertical-align: middle;\n",
       "    }\n",
       "\n",
       "    .dataframe tbody tr th {\n",
       "        vertical-align: top;\n",
       "    }\n",
       "\n",
       "    .dataframe thead th {\n",
       "        text-align: right;\n",
       "    }\n",
       "</style>\n",
       "<table border=\"1\" class=\"dataframe\">\n",
       "  <thead>\n",
       "    <tr style=\"text-align: right;\">\n",
       "      <th></th>\n",
       "      <th>QId</th>\n",
       "      <th>OwnerUserId</th>\n",
       "      <th>CreationDate</th>\n",
       "      <th>Score</th>\n",
       "      <th>Title</th>\n",
       "      <th>Body</th>\n",
       "    </tr>\n",
       "  </thead>\n",
       "  <tbody>\n",
       "    <tr>\n",
       "      <th>0</th>\n",
       "      <td>469</td>\n",
       "      <td>147.0</td>\n",
       "      <td>2008-08-02T15:11:16Z</td>\n",
       "      <td>21</td>\n",
       "      <td>How can I find the full path to a font from it...</td>\n",
       "      <td>&lt;p&gt;I am using the Photoshop's javascript API t...</td>\n",
       "    </tr>\n",
       "    <tr>\n",
       "      <th>1</th>\n",
       "      <td>502</td>\n",
       "      <td>147.0</td>\n",
       "      <td>2008-08-02T17:01:58Z</td>\n",
       "      <td>27</td>\n",
       "      <td>Get a preview JPEG of a PDF on Windows?</td>\n",
       "      <td>&lt;p&gt;I have a cross-platform (Python) applicatio...</td>\n",
       "    </tr>\n",
       "    <tr>\n",
       "      <th>2</th>\n",
       "      <td>535</td>\n",
       "      <td>154.0</td>\n",
       "      <td>2008-08-02T18:43:54Z</td>\n",
       "      <td>40</td>\n",
       "      <td>Continuous Integration System for a Python Cod...</td>\n",
       "      <td>&lt;p&gt;I'm starting work on a hobby project with a...</td>\n",
       "    </tr>\n",
       "    <tr>\n",
       "      <th>3</th>\n",
       "      <td>594</td>\n",
       "      <td>116.0</td>\n",
       "      <td>2008-08-03T01:15:08Z</td>\n",
       "      <td>25</td>\n",
       "      <td>cx_Oracle: How do I iterate over a result set?</td>\n",
       "      <td>&lt;p&gt;There are several ways to iterate over a re...</td>\n",
       "    </tr>\n",
       "    <tr>\n",
       "      <th>4</th>\n",
       "      <td>683</td>\n",
       "      <td>199.0</td>\n",
       "      <td>2008-08-03T13:19:16Z</td>\n",
       "      <td>28</td>\n",
       "      <td>Using 'in' to match an attribute of Python obj...</td>\n",
       "      <td>&lt;p&gt;I don't remember whether I was dreaming or ...</td>\n",
       "    </tr>\n",
       "  </tbody>\n",
       "</table>\n",
       "</div>"
      ],
      "text/plain": [
       "   QId  OwnerUserId          CreationDate  Score  \\\n",
       "0  469        147.0  2008-08-02T15:11:16Z     21   \n",
       "1  502        147.0  2008-08-02T17:01:58Z     27   \n",
       "2  535        154.0  2008-08-02T18:43:54Z     40   \n",
       "3  594        116.0  2008-08-03T01:15:08Z     25   \n",
       "4  683        199.0  2008-08-03T13:19:16Z     28   \n",
       "\n",
       "                                               Title  \\\n",
       "0  How can I find the full path to a font from it...   \n",
       "1            Get a preview JPEG of a PDF on Windows?   \n",
       "2  Continuous Integration System for a Python Cod...   \n",
       "3     cx_Oracle: How do I iterate over a result set?   \n",
       "4  Using 'in' to match an attribute of Python obj...   \n",
       "\n",
       "                                                Body  \n",
       "0  <p>I am using the Photoshop's javascript API t...  \n",
       "1  <p>I have a cross-platform (Python) applicatio...  \n",
       "2  <p>I'm starting work on a hobby project with a...  \n",
       "3  <p>There are several ways to iterate over a re...  \n",
       "4  <p>I don't remember whether I was dreaming or ...  "
      ]
     },
     "execution_count": 7,
     "metadata": {},
     "output_type": "execute_result"
    }
   ],
   "source": [
    "q.head()"
   ]
  },
  {
   "cell_type": "code",
   "execution_count": 8,
   "id": "ea1f8452",
   "metadata": {
    "executionInfo": {
     "elapsed": 13,
     "status": "aborted",
     "timestamp": 1698432323803,
     "user": {
      "displayName": "Jay Paun",
      "userId": "02230944815040819432"
     },
     "user_tz": 240
    },
    "id": "ea1f8452"
   },
   "outputs": [
    {
     "data": {
      "text/html": [
       "<div>\n",
       "<style scoped>\n",
       "    .dataframe tbody tr th:only-of-type {\n",
       "        vertical-align: middle;\n",
       "    }\n",
       "\n",
       "    .dataframe tbody tr th {\n",
       "        vertical-align: top;\n",
       "    }\n",
       "\n",
       "    .dataframe thead th {\n",
       "        text-align: right;\n",
       "    }\n",
       "</style>\n",
       "<table border=\"1\" class=\"dataframe\">\n",
       "  <thead>\n",
       "    <tr style=\"text-align: right;\">\n",
       "      <th></th>\n",
       "      <th>QId</th>\n",
       "      <th>OwnerUserId_x</th>\n",
       "      <th>CreationDate_x</th>\n",
       "      <th>Score_x</th>\n",
       "      <th>Title</th>\n",
       "      <th>Body_x</th>\n",
       "      <th>AId</th>\n",
       "      <th>OwnerUserId_y</th>\n",
       "      <th>CreationDate_y</th>\n",
       "      <th>Score_y</th>\n",
       "      <th>Body_y</th>\n",
       "      <th>latest_score</th>\n",
       "      <th>alternate</th>\n",
       "      <th>date</th>\n",
       "    </tr>\n",
       "  </thead>\n",
       "  <tbody>\n",
       "    <tr>\n",
       "      <th>0</th>\n",
       "      <td>469</td>\n",
       "      <td>147.0</td>\n",
       "      <td>2008-08-02T15:11:16Z</td>\n",
       "      <td>21</td>\n",
       "      <td>How can I find the full path to a font from it...</td>\n",
       "      <td>&lt;p&gt;I am using the Photoshop's javascript API t...</td>\n",
       "      <td>3040</td>\n",
       "      <td>457.0</td>\n",
       "      <td>2008-08-06T03:01:23Z</td>\n",
       "      <td>12</td>\n",
       "      <td>&lt;p&gt;Unfortunately the only API that isn't depre...</td>\n",
       "      <td>12</td>\n",
       "      <td>12</td>\n",
       "      <td>2022-07-08</td>\n",
       "    </tr>\n",
       "    <tr>\n",
       "      <th>1</th>\n",
       "      <td>502</td>\n",
       "      <td>147.0</td>\n",
       "      <td>2008-08-02T17:01:58Z</td>\n",
       "      <td>27</td>\n",
       "      <td>Get a preview JPEG of a PDF on Windows?</td>\n",
       "      <td>&lt;p&gt;I have a cross-platform (Python) applicatio...</td>\n",
       "      <td>536</td>\n",
       "      <td>161.0</td>\n",
       "      <td>2008-08-02T18:49:07Z</td>\n",
       "      <td>9</td>\n",
       "      <td>&lt;p&gt;You can use ImageMagick's convert utility f...</td>\n",
       "      <td>9</td>\n",
       "      <td>9</td>\n",
       "      <td>2022-07-08</td>\n",
       "    </tr>\n",
       "    <tr>\n",
       "      <th>2</th>\n",
       "      <td>502</td>\n",
       "      <td>147.0</td>\n",
       "      <td>2008-08-02T17:01:58Z</td>\n",
       "      <td>27</td>\n",
       "      <td>Get a preview JPEG of a PDF on Windows?</td>\n",
       "      <td>&lt;p&gt;I have a cross-platform (Python) applicatio...</td>\n",
       "      <td>7090</td>\n",
       "      <td>13.0</td>\n",
       "      <td>2008-08-10T08:08:33Z</td>\n",
       "      <td>25</td>\n",
       "      <td>&lt;p&gt;ImageMagick delegates the PDF-&gt;bitmap conve...</td>\n",
       "      <td>25</td>\n",
       "      <td>25</td>\n",
       "      <td>2022-07-08</td>\n",
       "    </tr>\n",
       "    <tr>\n",
       "      <th>3</th>\n",
       "      <td>535</td>\n",
       "      <td>154.0</td>\n",
       "      <td>2008-08-02T18:43:54Z</td>\n",
       "      <td>40</td>\n",
       "      <td>Continuous Integration System for a Python Cod...</td>\n",
       "      <td>&lt;p&gt;I'm starting work on a hobby project with a...</td>\n",
       "      <td>538</td>\n",
       "      <td>156.0</td>\n",
       "      <td>2008-08-02T18:56:56Z</td>\n",
       "      <td>23</td>\n",
       "      <td>&lt;p&gt;One possibility is Hudson.  It's written in...</td>\n",
       "      <td>23</td>\n",
       "      <td>23</td>\n",
       "      <td>2022-07-08</td>\n",
       "    </tr>\n",
       "    <tr>\n",
       "      <th>4</th>\n",
       "      <td>535</td>\n",
       "      <td>154.0</td>\n",
       "      <td>2008-08-02T18:43:54Z</td>\n",
       "      <td>40</td>\n",
       "      <td>Continuous Integration System for a Python Cod...</td>\n",
       "      <td>&lt;p&gt;I'm starting work on a hobby project with a...</td>\n",
       "      <td>541</td>\n",
       "      <td>157.0</td>\n",
       "      <td>2008-08-02T19:06:40Z</td>\n",
       "      <td>20</td>\n",
       "      <td>&lt;p&gt;We run &lt;a href=\"http://buildbot.net/trac\"&gt;B...</td>\n",
       "      <td>20</td>\n",
       "      <td>20</td>\n",
       "      <td>2022-07-08</td>\n",
       "    </tr>\n",
       "  </tbody>\n",
       "</table>\n",
       "</div>"
      ],
      "text/plain": [
       "   QId  OwnerUserId_x        CreationDate_x  Score_x  \\\n",
       "0  469          147.0  2008-08-02T15:11:16Z       21   \n",
       "1  502          147.0  2008-08-02T17:01:58Z       27   \n",
       "2  502          147.0  2008-08-02T17:01:58Z       27   \n",
       "3  535          154.0  2008-08-02T18:43:54Z       40   \n",
       "4  535          154.0  2008-08-02T18:43:54Z       40   \n",
       "\n",
       "                                               Title  \\\n",
       "0  How can I find the full path to a font from it...   \n",
       "1            Get a preview JPEG of a PDF on Windows?   \n",
       "2            Get a preview JPEG of a PDF on Windows?   \n",
       "3  Continuous Integration System for a Python Cod...   \n",
       "4  Continuous Integration System for a Python Cod...   \n",
       "\n",
       "                                              Body_x   AId  OwnerUserId_y  \\\n",
       "0  <p>I am using the Photoshop's javascript API t...  3040          457.0   \n",
       "1  <p>I have a cross-platform (Python) applicatio...   536          161.0   \n",
       "2  <p>I have a cross-platform (Python) applicatio...  7090           13.0   \n",
       "3  <p>I'm starting work on a hobby project with a...   538          156.0   \n",
       "4  <p>I'm starting work on a hobby project with a...   541          157.0   \n",
       "\n",
       "         CreationDate_y  Score_y  \\\n",
       "0  2008-08-06T03:01:23Z       12   \n",
       "1  2008-08-02T18:49:07Z        9   \n",
       "2  2008-08-10T08:08:33Z       25   \n",
       "3  2008-08-02T18:56:56Z       23   \n",
       "4  2008-08-02T19:06:40Z       20   \n",
       "\n",
       "                                              Body_y  latest_score  alternate  \\\n",
       "0  <p>Unfortunately the only API that isn't depre...            12         12   \n",
       "1  <p>You can use ImageMagick's convert utility f...             9          9   \n",
       "2  <p>ImageMagick delegates the PDF->bitmap conve...            25         25   \n",
       "3  <p>One possibility is Hudson.  It's written in...            23         23   \n",
       "4  <p>We run <a href=\"http://buildbot.net/trac\">B...            20         20   \n",
       "\n",
       "         date  \n",
       "0  2022-07-08  \n",
       "1  2022-07-08  \n",
       "2  2022-07-08  \n",
       "3  2022-07-08  \n",
       "4  2022-07-08  "
      ]
     },
     "execution_count": 8,
     "metadata": {},
     "output_type": "execute_result"
    }
   ],
   "source": [
    "df = q.merge(an, on='QId')\n",
    "df.head()"
   ]
  },
  {
   "cell_type": "code",
   "execution_count": 9,
   "id": "56a5a410",
   "metadata": {
    "executionInfo": {
     "elapsed": 13,
     "status": "aborted",
     "timestamp": 1698432323803,
     "user": {
      "displayName": "Jay Paun",
      "userId": "02230944815040819432"
     },
     "user_tz": 240
    },
    "id": "56a5a410"
   },
   "outputs": [
    {
     "data": {
      "text/html": [
       "<div>\n",
       "<style scoped>\n",
       "    .dataframe tbody tr th:only-of-type {\n",
       "        vertical-align: middle;\n",
       "    }\n",
       "\n",
       "    .dataframe tbody tr th {\n",
       "        vertical-align: top;\n",
       "    }\n",
       "\n",
       "    .dataframe thead th {\n",
       "        text-align: right;\n",
       "    }\n",
       "</style>\n",
       "<table border=\"1\" class=\"dataframe\">\n",
       "  <thead>\n",
       "    <tr style=\"text-align: right;\">\n",
       "      <th></th>\n",
       "      <th>QId</th>\n",
       "      <th>Title</th>\n",
       "      <th>Body_x</th>\n",
       "      <th>AId</th>\n",
       "      <th>Score_y</th>\n",
       "      <th>Body_y</th>\n",
       "      <th>latest_score</th>\n",
       "      <th>alternate</th>\n",
       "      <th>date</th>\n",
       "    </tr>\n",
       "  </thead>\n",
       "  <tbody>\n",
       "    <tr>\n",
       "      <th>0</th>\n",
       "      <td>469</td>\n",
       "      <td>How can I find the full path to a font from it...</td>\n",
       "      <td>&lt;p&gt;I am using the Photoshop's javascript API t...</td>\n",
       "      <td>3040</td>\n",
       "      <td>12</td>\n",
       "      <td>&lt;p&gt;Unfortunately the only API that isn't depre...</td>\n",
       "      <td>12</td>\n",
       "      <td>12</td>\n",
       "      <td>2022-07-08</td>\n",
       "    </tr>\n",
       "    <tr>\n",
       "      <th>1</th>\n",
       "      <td>502</td>\n",
       "      <td>Get a preview JPEG of a PDF on Windows?</td>\n",
       "      <td>&lt;p&gt;I have a cross-platform (Python) applicatio...</td>\n",
       "      <td>536</td>\n",
       "      <td>9</td>\n",
       "      <td>&lt;p&gt;You can use ImageMagick's convert utility f...</td>\n",
       "      <td>9</td>\n",
       "      <td>9</td>\n",
       "      <td>2022-07-08</td>\n",
       "    </tr>\n",
       "    <tr>\n",
       "      <th>2</th>\n",
       "      <td>502</td>\n",
       "      <td>Get a preview JPEG of a PDF on Windows?</td>\n",
       "      <td>&lt;p&gt;I have a cross-platform (Python) applicatio...</td>\n",
       "      <td>7090</td>\n",
       "      <td>25</td>\n",
       "      <td>&lt;p&gt;ImageMagick delegates the PDF-&gt;bitmap conve...</td>\n",
       "      <td>25</td>\n",
       "      <td>25</td>\n",
       "      <td>2022-07-08</td>\n",
       "    </tr>\n",
       "    <tr>\n",
       "      <th>3</th>\n",
       "      <td>535</td>\n",
       "      <td>Continuous Integration System for a Python Cod...</td>\n",
       "      <td>&lt;p&gt;I'm starting work on a hobby project with a...</td>\n",
       "      <td>538</td>\n",
       "      <td>23</td>\n",
       "      <td>&lt;p&gt;One possibility is Hudson.  It's written in...</td>\n",
       "      <td>23</td>\n",
       "      <td>23</td>\n",
       "      <td>2022-07-08</td>\n",
       "    </tr>\n",
       "    <tr>\n",
       "      <th>4</th>\n",
       "      <td>535</td>\n",
       "      <td>Continuous Integration System for a Python Cod...</td>\n",
       "      <td>&lt;p&gt;I'm starting work on a hobby project with a...</td>\n",
       "      <td>541</td>\n",
       "      <td>20</td>\n",
       "      <td>&lt;p&gt;We run &lt;a href=\"http://buildbot.net/trac\"&gt;B...</td>\n",
       "      <td>20</td>\n",
       "      <td>20</td>\n",
       "      <td>2022-07-08</td>\n",
       "    </tr>\n",
       "  </tbody>\n",
       "</table>\n",
       "</div>"
      ],
      "text/plain": [
       "   QId                                              Title  \\\n",
       "0  469  How can I find the full path to a font from it...   \n",
       "1  502            Get a preview JPEG of a PDF on Windows?   \n",
       "2  502            Get a preview JPEG of a PDF on Windows?   \n",
       "3  535  Continuous Integration System for a Python Cod...   \n",
       "4  535  Continuous Integration System for a Python Cod...   \n",
       "\n",
       "                                              Body_x   AId  Score_y  \\\n",
       "0  <p>I am using the Photoshop's javascript API t...  3040       12   \n",
       "1  <p>I have a cross-platform (Python) applicatio...   536        9   \n",
       "2  <p>I have a cross-platform (Python) applicatio...  7090       25   \n",
       "3  <p>I'm starting work on a hobby project with a...   538       23   \n",
       "4  <p>I'm starting work on a hobby project with a...   541       20   \n",
       "\n",
       "                                              Body_y  latest_score  alternate  \\\n",
       "0  <p>Unfortunately the only API that isn't depre...            12         12   \n",
       "1  <p>You can use ImageMagick's convert utility f...             9          9   \n",
       "2  <p>ImageMagick delegates the PDF->bitmap conve...            25         25   \n",
       "3  <p>One possibility is Hudson.  It's written in...            23         23   \n",
       "4  <p>We run <a href=\"http://buildbot.net/trac\">B...            20         20   \n",
       "\n",
       "         date  \n",
       "0  2022-07-08  \n",
       "1  2022-07-08  \n",
       "2  2022-07-08  \n",
       "3  2022-07-08  \n",
       "4  2022-07-08  "
      ]
     },
     "execution_count": 9,
     "metadata": {},
     "output_type": "execute_result"
    }
   ],
   "source": [
    "df.drop(columns=['OwnerUserId_x','CreationDate_x','Score_x','OwnerUserId_y','CreationDate_y'],inplace=True)\n",
    "df.head()"
   ]
  },
  {
   "cell_type": "code",
   "execution_count": 10,
   "id": "15c46d77",
   "metadata": {
    "executionInfo": {
     "elapsed": 13,
     "status": "aborted",
     "timestamp": 1698432323804,
     "user": {
      "displayName": "Jay Paun",
      "userId": "02230944815040819432"
     },
     "user_tz": 240
    },
    "id": "15c46d77"
   },
   "outputs": [],
   "source": [
    "df.rename(columns={'Body_x':'Question','Body_y':'Answer','Score_y':'Score'},inplace=True)"
   ]
  },
  {
   "cell_type": "code",
   "execution_count": 11,
   "id": "b1fa97db",
   "metadata": {
    "executionInfo": {
     "elapsed": 13,
     "status": "aborted",
     "timestamp": 1698432323804,
     "user": {
      "displayName": "Jay Paun",
      "userId": "02230944815040819432"
     },
     "user_tz": 240
    },
    "id": "b1fa97db"
   },
   "outputs": [
    {
     "data": {
      "text/html": [
       "<div>\n",
       "<style scoped>\n",
       "    .dataframe tbody tr th:only-of-type {\n",
       "        vertical-align: middle;\n",
       "    }\n",
       "\n",
       "    .dataframe tbody tr th {\n",
       "        vertical-align: top;\n",
       "    }\n",
       "\n",
       "    .dataframe thead th {\n",
       "        text-align: right;\n",
       "    }\n",
       "</style>\n",
       "<table border=\"1\" class=\"dataframe\">\n",
       "  <thead>\n",
       "    <tr style=\"text-align: right;\">\n",
       "      <th></th>\n",
       "      <th>QId</th>\n",
       "      <th>Title</th>\n",
       "      <th>Question</th>\n",
       "      <th>AId</th>\n",
       "      <th>Score</th>\n",
       "      <th>Answer</th>\n",
       "      <th>latest_score</th>\n",
       "      <th>alternate</th>\n",
       "      <th>date</th>\n",
       "    </tr>\n",
       "  </thead>\n",
       "  <tbody>\n",
       "    <tr>\n",
       "      <th>0</th>\n",
       "      <td>469</td>\n",
       "      <td>How can I find the full path to a font from it...</td>\n",
       "      <td>&lt;p&gt;I am using the Photoshop's javascript API t...</td>\n",
       "      <td>3040</td>\n",
       "      <td>12</td>\n",
       "      <td>&lt;p&gt;Unfortunately the only API that isn't depre...</td>\n",
       "      <td>12</td>\n",
       "      <td>12</td>\n",
       "      <td>2022-07-08</td>\n",
       "    </tr>\n",
       "    <tr>\n",
       "      <th>1</th>\n",
       "      <td>502</td>\n",
       "      <td>Get a preview JPEG of a PDF on Windows?</td>\n",
       "      <td>&lt;p&gt;I have a cross-platform (Python) applicatio...</td>\n",
       "      <td>536</td>\n",
       "      <td>9</td>\n",
       "      <td>&lt;p&gt;You can use ImageMagick's convert utility f...</td>\n",
       "      <td>9</td>\n",
       "      <td>9</td>\n",
       "      <td>2022-07-08</td>\n",
       "    </tr>\n",
       "    <tr>\n",
       "      <th>2</th>\n",
       "      <td>502</td>\n",
       "      <td>Get a preview JPEG of a PDF on Windows?</td>\n",
       "      <td>&lt;p&gt;I have a cross-platform (Python) applicatio...</td>\n",
       "      <td>7090</td>\n",
       "      <td>25</td>\n",
       "      <td>&lt;p&gt;ImageMagick delegates the PDF-&gt;bitmap conve...</td>\n",
       "      <td>25</td>\n",
       "      <td>25</td>\n",
       "      <td>2022-07-08</td>\n",
       "    </tr>\n",
       "    <tr>\n",
       "      <th>3</th>\n",
       "      <td>535</td>\n",
       "      <td>Continuous Integration System for a Python Cod...</td>\n",
       "      <td>&lt;p&gt;I'm starting work on a hobby project with a...</td>\n",
       "      <td>538</td>\n",
       "      <td>23</td>\n",
       "      <td>&lt;p&gt;One possibility is Hudson.  It's written in...</td>\n",
       "      <td>23</td>\n",
       "      <td>23</td>\n",
       "      <td>2022-07-08</td>\n",
       "    </tr>\n",
       "    <tr>\n",
       "      <th>4</th>\n",
       "      <td>535</td>\n",
       "      <td>Continuous Integration System for a Python Cod...</td>\n",
       "      <td>&lt;p&gt;I'm starting work on a hobby project with a...</td>\n",
       "      <td>541</td>\n",
       "      <td>20</td>\n",
       "      <td>&lt;p&gt;We run &lt;a href=\"http://buildbot.net/trac\"&gt;B...</td>\n",
       "      <td>20</td>\n",
       "      <td>20</td>\n",
       "      <td>2022-07-08</td>\n",
       "    </tr>\n",
       "  </tbody>\n",
       "</table>\n",
       "</div>"
      ],
      "text/plain": [
       "   QId                                              Title  \\\n",
       "0  469  How can I find the full path to a font from it...   \n",
       "1  502            Get a preview JPEG of a PDF on Windows?   \n",
       "2  502            Get a preview JPEG of a PDF on Windows?   \n",
       "3  535  Continuous Integration System for a Python Cod...   \n",
       "4  535  Continuous Integration System for a Python Cod...   \n",
       "\n",
       "                                            Question   AId  Score  \\\n",
       "0  <p>I am using the Photoshop's javascript API t...  3040     12   \n",
       "1  <p>I have a cross-platform (Python) applicatio...   536      9   \n",
       "2  <p>I have a cross-platform (Python) applicatio...  7090     25   \n",
       "3  <p>I'm starting work on a hobby project with a...   538     23   \n",
       "4  <p>I'm starting work on a hobby project with a...   541     20   \n",
       "\n",
       "                                              Answer  latest_score  alternate  \\\n",
       "0  <p>Unfortunately the only API that isn't depre...            12         12   \n",
       "1  <p>You can use ImageMagick's convert utility f...             9          9   \n",
       "2  <p>ImageMagick delegates the PDF->bitmap conve...            25         25   \n",
       "3  <p>One possibility is Hudson.  It's written in...            23         23   \n",
       "4  <p>We run <a href=\"http://buildbot.net/trac\">B...            20         20   \n",
       "\n",
       "         date  \n",
       "0  2022-07-08  \n",
       "1  2022-07-08  \n",
       "2  2022-07-08  \n",
       "3  2022-07-08  \n",
       "4  2022-07-08  "
      ]
     },
     "execution_count": 11,
     "metadata": {},
     "output_type": "execute_result"
    }
   ],
   "source": [
    "df.head()"
   ]
  },
  {
   "cell_type": "code",
   "execution_count": 12,
   "id": "7e2bb140",
   "metadata": {
    "executionInfo": {
     "elapsed": 12,
     "status": "aborted",
     "timestamp": 1698432323804,
     "user": {
      "displayName": "Jay Paun",
      "userId": "02230944815040819432"
     },
     "user_tz": 240
    },
    "id": "7e2bb140"
   },
   "outputs": [],
   "source": [
    "df['Answer'] = df['Answer'].apply(lambda x:BeautifulSoup(x).get_text())\n",
    "df['Question'] = df['Question'].apply(lambda x:BeautifulSoup(x).get_text())"
   ]
  },
  {
   "cell_type": "code",
   "execution_count": 13,
   "id": "d3a5c40b",
   "metadata": {
    "executionInfo": {
     "elapsed": 11,
     "status": "aborted",
     "timestamp": 1698432323804,
     "user": {
      "displayName": "Jay Paun",
      "userId": "02230944815040819432"
     },
     "user_tz": 240
    },
    "id": "d3a5c40b"
   },
   "outputs": [
    {
     "data": {
      "text/html": [
       "<div>\n",
       "<style scoped>\n",
       "    .dataframe tbody tr th:only-of-type {\n",
       "        vertical-align: middle;\n",
       "    }\n",
       "\n",
       "    .dataframe tbody tr th {\n",
       "        vertical-align: top;\n",
       "    }\n",
       "\n",
       "    .dataframe thead th {\n",
       "        text-align: right;\n",
       "    }\n",
       "</style>\n",
       "<table border=\"1\" class=\"dataframe\">\n",
       "  <thead>\n",
       "    <tr style=\"text-align: right;\">\n",
       "      <th></th>\n",
       "      <th>QId</th>\n",
       "      <th>Title</th>\n",
       "      <th>Question</th>\n",
       "      <th>AId</th>\n",
       "      <th>Score</th>\n",
       "      <th>Answer</th>\n",
       "      <th>latest_score</th>\n",
       "      <th>alternate</th>\n",
       "      <th>date</th>\n",
       "    </tr>\n",
       "  </thead>\n",
       "  <tbody>\n",
       "    <tr>\n",
       "      <th>0</th>\n",
       "      <td>469</td>\n",
       "      <td>How can I find the full path to a font from it...</td>\n",
       "      <td>I am using the Photoshop's javascript API to f...</td>\n",
       "      <td>3040</td>\n",
       "      <td>12</td>\n",
       "      <td>Unfortunately the only API that isn't deprecat...</td>\n",
       "      <td>12</td>\n",
       "      <td>12</td>\n",
       "      <td>2022-07-08</td>\n",
       "    </tr>\n",
       "    <tr>\n",
       "      <th>1</th>\n",
       "      <td>502</td>\n",
       "      <td>Get a preview JPEG of a PDF on Windows?</td>\n",
       "      <td>I have a cross-platform (Python) application w...</td>\n",
       "      <td>536</td>\n",
       "      <td>9</td>\n",
       "      <td>You can use ImageMagick's convert utility for ...</td>\n",
       "      <td>9</td>\n",
       "      <td>9</td>\n",
       "      <td>2022-07-08</td>\n",
       "    </tr>\n",
       "    <tr>\n",
       "      <th>2</th>\n",
       "      <td>502</td>\n",
       "      <td>Get a preview JPEG of a PDF on Windows?</td>\n",
       "      <td>I have a cross-platform (Python) application w...</td>\n",
       "      <td>7090</td>\n",
       "      <td>25</td>\n",
       "      <td>ImageMagick delegates the PDF-&gt;bitmap conversi...</td>\n",
       "      <td>25</td>\n",
       "      <td>25</td>\n",
       "      <td>2022-07-08</td>\n",
       "    </tr>\n",
       "    <tr>\n",
       "      <th>3</th>\n",
       "      <td>535</td>\n",
       "      <td>Continuous Integration System for a Python Cod...</td>\n",
       "      <td>I'm starting work on a hobby project with a py...</td>\n",
       "      <td>538</td>\n",
       "      <td>23</td>\n",
       "      <td>One possibility is Hudson.  It's written in Ja...</td>\n",
       "      <td>23</td>\n",
       "      <td>23</td>\n",
       "      <td>2022-07-08</td>\n",
       "    </tr>\n",
       "    <tr>\n",
       "      <th>4</th>\n",
       "      <td>535</td>\n",
       "      <td>Continuous Integration System for a Python Cod...</td>\n",
       "      <td>I'm starting work on a hobby project with a py...</td>\n",
       "      <td>541</td>\n",
       "      <td>20</td>\n",
       "      <td>We run Buildbot - Trac at work, I haven't used...</td>\n",
       "      <td>20</td>\n",
       "      <td>20</td>\n",
       "      <td>2022-07-08</td>\n",
       "    </tr>\n",
       "  </tbody>\n",
       "</table>\n",
       "</div>"
      ],
      "text/plain": [
       "   QId                                              Title  \\\n",
       "0  469  How can I find the full path to a font from it...   \n",
       "1  502            Get a preview JPEG of a PDF on Windows?   \n",
       "2  502            Get a preview JPEG of a PDF on Windows?   \n",
       "3  535  Continuous Integration System for a Python Cod...   \n",
       "4  535  Continuous Integration System for a Python Cod...   \n",
       "\n",
       "                                            Question   AId  Score  \\\n",
       "0  I am using the Photoshop's javascript API to f...  3040     12   \n",
       "1  I have a cross-platform (Python) application w...   536      9   \n",
       "2  I have a cross-platform (Python) application w...  7090     25   \n",
       "3  I'm starting work on a hobby project with a py...   538     23   \n",
       "4  I'm starting work on a hobby project with a py...   541     20   \n",
       "\n",
       "                                              Answer  latest_score  alternate  \\\n",
       "0  Unfortunately the only API that isn't deprecat...            12         12   \n",
       "1  You can use ImageMagick's convert utility for ...             9          9   \n",
       "2  ImageMagick delegates the PDF->bitmap conversi...            25         25   \n",
       "3  One possibility is Hudson.  It's written in Ja...            23         23   \n",
       "4  We run Buildbot - Trac at work, I haven't used...            20         20   \n",
       "\n",
       "         date  \n",
       "0  2022-07-08  \n",
       "1  2022-07-08  \n",
       "2  2022-07-08  \n",
       "3  2022-07-08  \n",
       "4  2022-07-08  "
      ]
     },
     "execution_count": 13,
     "metadata": {},
     "output_type": "execute_result"
    }
   ],
   "source": [
    "df.head()"
   ]
  },
  {
   "cell_type": "code",
   "execution_count": 14,
   "id": "d01589ab",
   "metadata": {
    "executionInfo": {
     "elapsed": 11,
     "status": "aborted",
     "timestamp": 1698432323804,
     "user": {
      "displayName": "Jay Paun",
      "userId": "02230944815040819432"
     },
     "user_tz": 240
    },
    "id": "d01589ab"
   },
   "outputs": [
    {
     "data": {
      "text/plain": [
       "TfidfVectorizer()"
      ]
     },
     "execution_count": 14,
     "metadata": {},
     "output_type": "execute_result"
    }
   ],
   "source": [
    "vectorizer = TfidfVectorizer()\n",
    "vectorizer.fit(np.concatenate((df.Question, df.Answer)))"
   ]
  },
  {
   "cell_type": "code",
   "execution_count": 15,
   "id": "63b5737b",
   "metadata": {
    "executionInfo": {
     "elapsed": 11,
     "status": "aborted",
     "timestamp": 1698432323804,
     "user": {
      "displayName": "Jay Paun",
      "userId": "02230944815040819432"
     },
     "user_tz": 240
    },
    "id": "63b5737b"
   },
   "outputs": [],
   "source": [
    "Question_vectors = vectorizer.transform(df.Question)"
   ]
  },
  {
   "cell_type": "code",
   "execution_count": 16,
   "id": "d354b464",
   "metadata": {
    "executionInfo": {
     "elapsed": 11,
     "status": "aborted",
     "timestamp": 1698432323804,
     "user": {
      "displayName": "Jay Paun",
      "userId": "02230944815040819432"
     },
     "user_tz": 240
    },
    "id": "d354b464"
   },
   "outputs": [],
   "source": [
    "threshold = 30\n",
    "answer = []"
   ]
  },
  {
   "cell_type": "code",
   "execution_count": 17,
   "id": "366f46cc",
   "metadata": {
    "executionInfo": {
     "elapsed": 11,
     "status": "aborted",
     "timestamp": 1698432323805,
     "user": {
      "displayName": "Jay Paun",
      "userId": "02230944815040819432"
     },
     "user_tz": 240
    },
    "id": "366f46cc"
   },
   "outputs": [],
   "source": [
    "def getAnswerWithHighestScore(answers):\n",
    "    r = np.argmax(answers['latest_score']-answers['alternate'])\n",
    "    if (datetime.strptime(str(date.today()),\"%Y-%m-%d\")-datetime.strptime(answers['date'].iloc[0],\"%Y-%m-%d\")).days > threshold:\n",
    "        df[df['QId'] == answers['QId'].iloc[0]]['date'] = date.today()\n",
    "        df[df['QId'] == answers['QId'].iloc[0]]['alternate']=df[df['QId'] == answers['QId'].iloc[0]]['latest_score']\n",
    "        an[an['QId'] == answers['QId'].iloc[0]]['date'] = date.today()\n",
    "        an[an['QId'] == answers['QId'].iloc[0]]['alternate']=df[df['QId'] == answers['QId'].iloc[0]]['latest_score']\n",
    "        an.to_csv(\"Dataset/AnswersV2.csv\",index=False)\n",
    "    return [answers.iloc[r]['Answer'],answers.iloc[r]['AId'],answers.iloc[r]['alternate']]"
   ]
  },
  {
   "cell_type": "code",
   "execution_count": 18,
   "id": "737213ef",
   "metadata": {
    "executionInfo": {
     "elapsed": 11,
     "status": "aborted",
     "timestamp": 1698432323805,
     "user": {
      "displayName": "Jay Paun",
      "userId": "02230944815040819432"
     },
     "user_tz": 240
    },
    "id": "737213ef"
   },
   "outputs": [],
   "source": [
    "def get_answer(row):\n",
    "    global answer\n",
    "    \n",
    "    qid = df.iloc[row][0]  # question id similar to the question asked by user\n",
    "    answers = df.loc[df['QId'] == qid]\n",
    "    answer = getAnswerWithHighestScore(answers)  # retreive the ans with highest score \n",
    "    return [answer[0],answer[2]]"
   ]
  },
  {
   "cell_type": "code",
   "execution_count": 19,
   "id": "93a13b89",
   "metadata": {
    "executionInfo": {
     "elapsed": 9,
     "status": "aborted",
     "timestamp": 1698432323805,
     "user": {
      "displayName": "Jay Paun",
      "userId": "02230944815040819432"
     },
     "user_tz": 240
    },
    "id": "93a13b89"
   },
   "outputs": [],
   "source": [
    "def chatbot_response(msg):\n",
    "    input_question =BeautifulSoup(msg).get_text()\n",
    "\n",
    "    # Locate the closest question\n",
    "    input_question_vector = vectorizer.transform([input_question])\n",
    "\n",
    "    # Compute similarities\n",
    "    similarities = cosine_similarity(input_question_vector, Question_vectors)\n",
    "\n",
    "    # Find the closest question\n",
    "    closest = np.argmax(similarities, axis=1)\n",
    "    a =  get_answer(closest[0])\n",
    "    return [a[0],a[1]]\n",
    "#     return df.Answer.iloc[closest].values[0]"
   ]
  },
  {
   "cell_type": "code",
   "execution_count": 20,
   "id": "85503221",
   "metadata": {
    "executionInfo": {
     "elapsed": 9,
     "status": "aborted",
     "timestamp": 1698432323805,
     "user": {
      "displayName": "Jay Paun",
      "userId": "02230944815040819432"
     },
     "user_tz": 240
    },
    "id": "85503221"
   },
   "outputs": [],
   "source": [
    "global check,upvoted,downvoted\n",
    "check = True\n",
    "upvoted = False\n",
    "downvoted = False"
   ]
  },
  {
   "cell_type": "code",
   "execution_count": 21,
   "id": "ead055e3",
   "metadata": {
    "executionInfo": {
     "elapsed": 9,
     "status": "aborted",
     "timestamp": 1698432323805,
     "user": {
      "displayName": "Jay Paun",
      "userId": "02230944815040819432"
     },
     "user_tz": 240
    },
    "id": "ead055e3"
   },
   "outputs": [],
   "source": [
    "def upvote():\n",
    "    global upvoted,downvoted\n",
    "    if not upvoted:\n",
    "        upvoted = True\n",
    "        downvoted = False\n",
    "        r1 = df.index[df['AId'] == answer[1]]\n",
    "        r2 = an.index[df['AId'] == answer[1]]\n",
    "        score = int(df.iloc[r1]['latest_score'].values[0])\n",
    "        score+=1\n",
    "        updateScore(score)\n",
    "        df.loc[r1,'latest_score'] = score\n",
    "        an.loc[r2,'latest_score'] = score\n",
    "        an.to_csv(\"Dataset/AnswersV2.csv\",index=False)\n",
    "        messagebox.showinfo(\"UPVOTE!!!\",\"ANSWER IS UPVOTED\")"
   ]
  },
  {
   "cell_type": "code",
   "execution_count": 22,
   "id": "98ee0b2b",
   "metadata": {
    "executionInfo": {
     "elapsed": 8,
     "status": "aborted",
     "timestamp": 1698432323805,
     "user": {
      "displayName": "Jay Paun",
      "userId": "02230944815040819432"
     },
     "user_tz": 240
    },
    "id": "98ee0b2b"
   },
   "outputs": [],
   "source": [
    "def downvote():\n",
    "    global upvoted,downvoted\n",
    "    if not downvoted:\n",
    "        downvoted = True\n",
    "        upvoted = False\n",
    "        r1 = df.index[df['AId'] == answer[1]]\n",
    "        r2 = an.index[df['AId'] == answer[1]]\n",
    "        score = int(df.iloc[r1]['latest_score'].values[0])\n",
    "        score-=1\n",
    "        updateScore(score)\n",
    "#         if(score <0):\n",
    "#             mail(answer[1])\n",
    "        df.loc[r1,'latest_score'] = score\n",
    "        an.loc[r2,'latest_score'] = score\n",
    "        an.to_csv(\"Dataset/AnswersV2.csv\",index=False)\n",
    "        messagebox.showinfo(\"DOWNVOTE!!!\",\"ANSWER IS DOWNVOTED\")"
   ]
  },
  {
   "cell_type": "code",
   "execution_count": 23,
   "id": "95c04e1e",
   "metadata": {
    "executionInfo": {
     "elapsed": 8,
     "status": "aborted",
     "timestamp": 1698432323805,
     "user": {
      "displayName": "Jay Paun",
      "userId": "02230944815040819432"
     },
     "user_tz": 240
    },
    "id": "95c04e1e"
   },
   "outputs": [],
   "source": [
    "def updateScore(newScore):\n",
    "    score_text.delete(\"1.0\",END)\n",
    "    score_text.insert(\"1.0\",newScore)"
   ]
  },
  {
   "cell_type": "code",
   "execution_count": 25,
   "id": "2a36ba0e",
   "metadata": {
    "executionInfo": {
     "elapsed": 8,
     "status": "aborted",
     "timestamp": 1698432323805,
     "user": {
      "displayName": "Jay Paun",
      "userId": "02230944815040819432"
     },
     "user_tz": 240
    },
    "id": "2a36ba0e"
   },
   "outputs": [],
   "source": [
    "class TrieNode():\n",
    "    def __init__(self):\n",
    "        # Initialising one node for trie\n",
    "        self.children = {}\n",
    "        self.last = False\n",
    "        self.answers=[]\n",
    "\n",
    "\n",
    "class Trie():\n",
    "    def __init__(self):\n",
    "\n",
    "        # Initialising the trie structure.\n",
    "        self.root = TrieNode()\n",
    "        self.answers = []\n",
    "\n",
    "    def insert(self, key):\n",
    "\n",
    "        # Inserts a key into trie if it does not exist already.\n",
    "        # And if the key is a prefix of the trie node, just\n",
    "        # marks it as leaf node.\n",
    "        node = self.root\n",
    "\n",
    "        for a in key:\n",
    "            if not node.children.get(a):\n",
    "                node.children[a] = TrieNode()\n",
    "\n",
    "            node = node.children[a]\n",
    "\n",
    "        node.last = True\n",
    "\n",
    "    def suggestionsRec(self, node, word):\n",
    "\n",
    "        # Method to recursively traverse the trie\n",
    "        # and return a whole word.\n",
    "        if node.last:\n",
    "            self.answers.append(word)\n",
    "\n",
    "        for a, n in node.children.items():\n",
    "            self.suggestionsRec(n, word + a)\n",
    "\n",
    "    def printAutoSuggestions(self, key):\n",
    "\n",
    "        # Returns all the words in the trie whose common\n",
    "        # prefix is the given key thus listing out all\n",
    "        # the suggestions for autocomplete.\n",
    "        node = self.root\n",
    "\n",
    "        for a in key:\n",
    "            # no string in the Trie has this prefix\n",
    "            if not node.children.get(a):\n",
    "                return 0\n",
    "            node = node.children[a]\n",
    "\n",
    "        # If prefix is present as a word, but\n",
    "        # there is no subtree below the last\n",
    "        # matching node.\n",
    "        if not node.children:\n",
    "            return -1\n",
    "\n",
    "        self.suggestionsRec(node, key)\n",
    "        return 1\n",
    "\n",
    "    def getAnswers(self):\n",
    "        return self.answers\n",
    "\n",
    "    def reset(self):\n",
    "        self.answers =[]"
   ]
  },
  {
   "cell_type": "code",
   "execution_count": 26,
   "id": "242a8c90",
   "metadata": {
    "executionInfo": {
     "elapsed": 8,
     "status": "aborted",
     "timestamp": 1698432323805,
     "user": {
      "displayName": "Jay Paun",
      "userId": "02230944815040819432"
     },
     "user_tz": 240
    },
    "id": "242a8c90"
   },
   "outputs": [],
   "source": [
    "que= q.Title.tolist()"
   ]
  },
  {
   "cell_type": "code",
   "execution_count": 27,
   "id": "d6f472c7",
   "metadata": {
    "executionInfo": {
     "elapsed": 8,
     "status": "aborted",
     "timestamp": 1698432323805,
     "user": {
      "displayName": "Jay Paun",
      "userId": "02230944815040819432"
     },
     "user_tz": 240
    },
    "id": "d6f472c7"
   },
   "outputs": [],
   "source": [
    "ob1 = Trie()\n",
    "for i in range(30000):\n",
    "    ob1.insert(que[i])"
   ]
  },
  {
   "cell_type": "code",
   "execution_count": 28,
   "id": "c4a314a7",
   "metadata": {
    "executionInfo": {
     "elapsed": 9,
     "status": "aborted",
     "timestamp": 1698432323806,
     "user": {
      "displayName": "Jay Paun",
      "userId": "02230944815040819432"
     },
     "user_tz": 240
    },
    "id": "c4a314a7"
   },
   "outputs": [],
   "source": [
    "from pynput.keyboard import Key, Listener"
   ]
  },
  {
   "cell_type": "code",
   "execution_count": 29,
   "id": "cb622380",
   "metadata": {
    "executionInfo": {
     "elapsed": 9,
     "status": "aborted",
     "timestamp": 1698432323806,
     "user": {
      "displayName": "Jay Paun",
      "userId": "02230944815040819432"
     },
     "user_tz": 240
    },
    "id": "cb622380"
   },
   "outputs": [],
   "source": [
    "anss = []"
   ]
  },
  {
   "cell_type": "code",
   "execution_count": 30,
   "id": "60eb1c1e",
   "metadata": {
    "executionInfo": {
     "elapsed": 9,
     "status": "aborted",
     "timestamp": 1698432323806,
     "user": {
      "displayName": "Jay Paun",
      "userId": "02230944815040819432"
     },
     "user_tz": 240
    },
    "id": "60eb1c1e"
   },
   "outputs": [],
   "source": [
    "import functools"
   ]
  },
  {
   "cell_type": "code",
   "execution_count": 31,
   "id": "bcd7a0b7",
   "metadata": {
    "executionInfo": {
     "elapsed": 9,
     "status": "aborted",
     "timestamp": 1698432323806,
     "user": {
      "displayName": "Jay Paun",
      "userId": "02230944815040819432"
     },
     "user_tz": 240
    },
    "id": "bcd7a0b7"
   },
   "outputs": [],
   "source": [
    "def autoComplete(text=''):\n",
    "    global anss\n",
    "    ob1.printAutoSuggestions(text)\n",
    "    anss = ob1.getAnswers()\n",
    "    ob1.reset()\n"
   ]
  },
  {
   "cell_type": "code",
   "execution_count": 35,
   "id": "6deefa9c",
   "metadata": {
    "executionInfo": {
     "elapsed": 9,
     "status": "aborted",
     "timestamp": 1698432323806,
     "user": {
      "displayName": "Jay Paun",
      "userId": "02230944815040819432"
     },
     "user_tz": 240
    },
    "id": "6deefa9c"
   },
   "outputs": [
    {
     "name": "stderr",
     "output_type": "stream",
     "text": [
      "C:\\Users\\win 10\\AppData\\Local\\Temp\\ipykernel_14012\\329111576.py:4: SettingWithCopyWarning: \n",
      "A value is trying to be set on a copy of a slice from a DataFrame.\n",
      "Try using .loc[row_indexer,col_indexer] = value instead\n",
      "\n",
      "See the caveats in the documentation: https://pandas.pydata.org/pandas-docs/stable/user_guide/indexing.html#returning-a-view-versus-a-copy\n",
      "  df[df['QId'] == answers['QId'].iloc[0]]['date'] = date.today()\n",
      "C:\\Users\\win 10\\AppData\\Local\\Temp\\ipykernel_14012\\329111576.py:5: SettingWithCopyWarning: \n",
      "A value is trying to be set on a copy of a slice from a DataFrame.\n",
      "Try using .loc[row_indexer,col_indexer] = value instead\n",
      "\n",
      "See the caveats in the documentation: https://pandas.pydata.org/pandas-docs/stable/user_guide/indexing.html#returning-a-view-versus-a-copy\n",
      "  df[df['QId'] == answers['QId'].iloc[0]]['alternate']=df[df['QId'] == answers['QId'].iloc[0]]['latest_score']\n",
      "C:\\Users\\win 10\\AppData\\Local\\Temp\\ipykernel_14012\\329111576.py:6: SettingWithCopyWarning: \n",
      "A value is trying to be set on a copy of a slice from a DataFrame.\n",
      "Try using .loc[row_indexer,col_indexer] = value instead\n",
      "\n",
      "See the caveats in the documentation: https://pandas.pydata.org/pandas-docs/stable/user_guide/indexing.html#returning-a-view-versus-a-copy\n",
      "  an[an['QId'] == answers['QId'].iloc[0]]['date'] = date.today()\n",
      "C:\\Users\\win 10\\AppData\\Local\\Temp\\ipykernel_14012\\329111576.py:7: SettingWithCopyWarning: \n",
      "A value is trying to be set on a copy of a slice from a DataFrame.\n",
      "Try using .loc[row_indexer,col_indexer] = value instead\n",
      "\n",
      "See the caveats in the documentation: https://pandas.pydata.org/pandas-docs/stable/user_guide/indexing.html#returning-a-view-versus-a-copy\n",
      "  an[an['QId'] == answers['QId'].iloc[0]]['alternate']=df[df['QId'] == answers['QId'].iloc[0]]['latest_score']\n"
     ]
    }
   ],
   "source": [
    "def speechToText():\n",
    "    obj = speech.Recognizer()\n",
    "    print(\"PyBot is listening you...\")\n",
    "    with speech.Microphone() as microphone:\n",
    "        try:\n",
    "            print(\"Listening ...\")\n",
    "            audio = obj.listen(microphone)\n",
    "            print(\"Processing the Voice ...\")\n",
    "            query = obj.recognize_google(audio,language = 'eng-in')\n",
    "            print(\"Recognized the Question ...\")\n",
    "            print(query)\n",
    "            EntryBox.delete('1.0',END)\n",
    "            EntryBox.insert('1.0', query)\n",
    "            send()\n",
    "        except Exception as e:\n",
    "            print(e)\n",
    "\n",
    "\n",
    "def send():\n",
    "    global upvoted,downvoted\n",
    "    upvoted = False\n",
    "    downvoted = False\n",
    "    msg = EntryBox.get(\"1.0\",'end-1c').strip()\n",
    "    EntryBox.delete(\"0.0\",END)\n",
    "    if msg != '':\n",
    "        ChatLog.config(state=NORMAL)\n",
    "        ChatLog.insert(END, \"You: \" + msg + '\\n\\n')\n",
    "        ChatLog.config(foreground=\"#442265\", font=(\"Verdana\", 12 ))\n",
    "        res = chatbot_response(msg)\n",
    "        ChatLog.insert(END, \"Bot: \" + res[0] + '\\n\\n')\n",
    "        updateScore(res[1])\n",
    "        ChatLog.config(state=DISABLED)\n",
    "        ChatLog.yview(END)\n",
    "\n",
    "\n",
    "\n",
    "base = Tk()\n",
    "base.title(\"PyBOT\")\n",
    "base.geometry(\"600x650\")\n",
    "base.resizable(width=FALSE, height=FALSE)\n",
    "# base.withdraw()\n",
    "# def popup(vote):\n",
    "#     messagebox.showinfo(\"Alert\",\"Answer was \"+vote)\n",
    "\n",
    "def sp():\n",
    "    thread = threading.Thread(target=speechToText())\n",
    "    thread.start()\n",
    "\n",
    "score_text = Text(base,bg=\"white\")\n",
    "upvote = Button(base, text=\"UPVOTE\", fg=\"black\",bg=\"white\",command=upvote)\n",
    "upvote.place(x=30, y=300, height=40, width=90)\n",
    "\n",
    "downvote = Button(base, text=\"DOWNVOTE\", fg=\"black\",bg=\"white\",command=downvote)\n",
    "downvote.place(x=180, y=300, height=40, width=90)\n",
    "\n",
    "speechButton = Button(base, text=\"Mic\", fg=\"black\",bg=\"white\",command=sp)\n",
    "speechButton.place(x=350, y=300, height=40, width=50)\n",
    "score_text.place(x=500,y=300, height=40,width=40)\n",
    "\n",
    "ChatLog = Text(base, bd=0, bg=\"white\", height=\"8\", width=\"50\", font=\"Arial\")\n",
    "ChatLog.config(state=DISABLED)\n",
    "\n",
    "scrollbar = Scrollbar(base, command=ChatLog.yview, cursor=\"heart\")\n",
    "ChatLog['yscrollcommand'] = scrollbar.set\n",
    "\n",
    "SendButton = Button(base, font=(\"Verdana\",12,'bold'), text=\"Send\", width=\"12\", height=5,\n",
    "                    bd=0, bg=\"#32de97\", activebackground=\"#3c9d9b\",fg='#ffffff',\n",
    "                    command= send )\n",
    "\n",
    "EntryBox = Text(base, bd=0, bg=\"white\",width=\"29\", height=\"5\", font=\"Arial\")\n",
    "\n",
    "ListBox = Listbox(base, bg=\"white\",width=\"29\", height=\"5\", font=\"Arial\")\n",
    "\n",
    "scrollbar.place(x=575,y=6, height=280)\n",
    "ChatLog.place(x=6,y=6, height=280, width=800)\n",
    "EntryBox.place(x=128, y=380, height=120, width=500)\n",
    "SendButton.place(x=6, y=380, height=120)\n",
    "ListBox.place(x=6, y=520, height=100,width = 600)\n",
    "\n",
    "def update(data):\n",
    "\t# Clear the listbox\n",
    "\tListBox.delete(0, END)\n",
    "\n",
    "\tfor item in data:\n",
    "\t\tListBox.insert(END, item)\n",
    "\n",
    "# Update entry box with listbox clicked\n",
    "def populate(e):\n",
    "\t# Delete whatever is in the entry box\n",
    "\tEntryBox.delete(\"1.0\", END)\n",
    "\n",
    "\t# Add clicked list item to entry box\n",
    "\tEntryBox.insert(\"1.0\", ListBox.get(ANCHOR))\n",
    "\n",
    "def getCompleted(event):\n",
    "    msg = EntryBox.get(\"1.0\",'end-1c').strip()\n",
    "\n",
    "    autoComplete(msg)\n",
    "    update(anss[:5])\n",
    "\n",
    "ListBox.bind(\"<<ListboxSelect>>\", populate)\n",
    "base.bind(\"<Key>\",getCompleted)\n",
    "base.mainloop()"
   ]
  },
  {
   "cell_type": "code",
   "execution_count": null,
   "id": "92cdef18",
   "metadata": {},
   "outputs": [],
   "source": []
  },
  {
   "cell_type": "code",
   "execution_count": null,
   "id": "257abbd0",
   "metadata": {},
   "outputs": [],
   "source": []
  }
 ],
 "metadata": {
  "colab": {
   "provenance": []
  },
  "kernelspec": {
   "display_name": "Python 3 (ipykernel)",
   "language": "python",
   "name": "python3"
  },
  "language_info": {
   "codemirror_mode": {
    "name": "ipython",
    "version": 3
   },
   "file_extension": ".py",
   "mimetype": "text/x-python",
   "name": "python",
   "nbconvert_exporter": "python",
   "pygments_lexer": "ipython3",
   "version": "3.9.12"
  }
 },
 "nbformat": 4,
 "nbformat_minor": 5
}
