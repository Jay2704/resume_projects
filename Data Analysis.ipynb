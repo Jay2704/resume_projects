{
 "cells": [
  {
   "cell_type": "code",
   "execution_count": 1,
   "id": "d6a3c639",
   "metadata": {},
   "outputs": [],
   "source": [
    "import pandas as pd\n",
    "import matplotlib.pyplot as plt\n",
    "from bs4 import BeautifulSoup"
   ]
  },
  {
   "cell_type": "code",
   "execution_count": 2,
   "id": "9ad19adb",
   "metadata": {},
   "outputs": [],
   "source": [
    "questions = pd.read_csv('Dataset/Questions.csv',encoding='latin-1')"
   ]
  },
  {
   "cell_type": "code",
   "execution_count": 3,
   "id": "36ae43e2",
   "metadata": {},
   "outputs": [
    {
     "name": "stdout",
     "output_type": "stream",
     "text": [
      "Index(['Id', 'OwnerUserId', 'CreationDate', 'Score', 'Title', 'Body'], dtype='object')\n"
     ]
    }
   ],
   "source": [
    "print(questions.columns)"
   ]
  },
  {
   "cell_type": "code",
   "execution_count": 4,
   "id": "4549b751",
   "metadata": {},
   "outputs": [
    {
     "name": "stdout",
     "output_type": "stream",
     "text": [
      "Number of Questions in the Dataset:  607282\n"
     ]
    }
   ],
   "source": [
    "print(\"Number of Questions in the Dataset: \",len(questions))"
   ]
  },
  {
   "cell_type": "code",
   "execution_count": 5,
   "id": "594578cc",
   "metadata": {},
   "outputs": [
    {
     "data": {
      "text/html": [
       "<div>\n",
       "<style scoped>\n",
       "    .dataframe tbody tr th:only-of-type {\n",
       "        vertical-align: middle;\n",
       "    }\n",
       "\n",
       "    .dataframe tbody tr th {\n",
       "        vertical-align: top;\n",
       "    }\n",
       "\n",
       "    .dataframe thead th {\n",
       "        text-align: right;\n",
       "    }\n",
       "</style>\n",
       "<table border=\"1\" class=\"dataframe\">\n",
       "  <thead>\n",
       "    <tr style=\"text-align: right;\">\n",
       "      <th></th>\n",
       "      <th>Id</th>\n",
       "      <th>OwnerUserId</th>\n",
       "      <th>CreationDate</th>\n",
       "      <th>Score</th>\n",
       "      <th>Title</th>\n",
       "      <th>Body</th>\n",
       "    </tr>\n",
       "  </thead>\n",
       "  <tbody>\n",
       "    <tr>\n",
       "      <th>0</th>\n",
       "      <td>469</td>\n",
       "      <td>147.0</td>\n",
       "      <td>2008-08-02T15:11:16Z</td>\n",
       "      <td>21</td>\n",
       "      <td>How can I find the full path to a font from it...</td>\n",
       "      <td>&lt;p&gt;I am using the Photoshop's javascript API t...</td>\n",
       "    </tr>\n",
       "    <tr>\n",
       "      <th>1</th>\n",
       "      <td>502</td>\n",
       "      <td>147.0</td>\n",
       "      <td>2008-08-02T17:01:58Z</td>\n",
       "      <td>27</td>\n",
       "      <td>Get a preview JPEG of a PDF on Windows?</td>\n",
       "      <td>&lt;p&gt;I have a cross-platform (Python) applicatio...</td>\n",
       "    </tr>\n",
       "    <tr>\n",
       "      <th>2</th>\n",
       "      <td>535</td>\n",
       "      <td>154.0</td>\n",
       "      <td>2008-08-02T18:43:54Z</td>\n",
       "      <td>40</td>\n",
       "      <td>Continuous Integration System for a Python Cod...</td>\n",
       "      <td>&lt;p&gt;I'm starting work on a hobby project with a...</td>\n",
       "    </tr>\n",
       "    <tr>\n",
       "      <th>3</th>\n",
       "      <td>594</td>\n",
       "      <td>116.0</td>\n",
       "      <td>2008-08-03T01:15:08Z</td>\n",
       "      <td>25</td>\n",
       "      <td>cx_Oracle: How do I iterate over a result set?</td>\n",
       "      <td>&lt;p&gt;There are several ways to iterate over a re...</td>\n",
       "    </tr>\n",
       "    <tr>\n",
       "      <th>4</th>\n",
       "      <td>683</td>\n",
       "      <td>199.0</td>\n",
       "      <td>2008-08-03T13:19:16Z</td>\n",
       "      <td>28</td>\n",
       "      <td>Using 'in' to match an attribute of Python obj...</td>\n",
       "      <td>&lt;p&gt;I don't remember whether I was dreaming or ...</td>\n",
       "    </tr>\n",
       "  </tbody>\n",
       "</table>\n",
       "</div>"
      ],
      "text/plain": [
       "    Id  OwnerUserId          CreationDate  Score  \\\n",
       "0  469        147.0  2008-08-02T15:11:16Z     21   \n",
       "1  502        147.0  2008-08-02T17:01:58Z     27   \n",
       "2  535        154.0  2008-08-02T18:43:54Z     40   \n",
       "3  594        116.0  2008-08-03T01:15:08Z     25   \n",
       "4  683        199.0  2008-08-03T13:19:16Z     28   \n",
       "\n",
       "                                               Title  \\\n",
       "0  How can I find the full path to a font from it...   \n",
       "1            Get a preview JPEG of a PDF on Windows?   \n",
       "2  Continuous Integration System for a Python Cod...   \n",
       "3     cx_Oracle: How do I iterate over a result set?   \n",
       "4  Using 'in' to match an attribute of Python obj...   \n",
       "\n",
       "                                                Body  \n",
       "0  <p>I am using the Photoshop's javascript API t...  \n",
       "1  <p>I have a cross-platform (Python) applicatio...  \n",
       "2  <p>I'm starting work on a hobby project with a...  \n",
       "3  <p>There are several ways to iterate over a re...  \n",
       "4  <p>I don't remember whether I was dreaming or ...  "
      ]
     },
     "execution_count": 5,
     "metadata": {},
     "output_type": "execute_result"
    }
   ],
   "source": [
    "questions.head()"
   ]
  },
  {
   "cell_type": "code",
   "execution_count": 6,
   "id": "4b0f79fb",
   "metadata": {},
   "outputs": [],
   "source": [
    "answers = pd.read_csv('Dataset/Answers.csv',encoding = 'latin-1')"
   ]
  },
  {
   "cell_type": "code",
   "execution_count": 7,
   "id": "2c143273",
   "metadata": {},
   "outputs": [
    {
     "name": "stdout",
     "output_type": "stream",
     "text": [
      "Index(['Id', 'OwnerUserId', 'CreationDate', 'ParentId', 'Score', 'Body'], dtype='object')\n"
     ]
    }
   ],
   "source": [
    "print(answers.columns)"
   ]
  },
  {
   "cell_type": "code",
   "execution_count": 8,
   "id": "4625de97",
   "metadata": {},
   "outputs": [
    {
     "name": "stdout",
     "output_type": "stream",
     "text": [
      "Number of Answers:  987122\n"
     ]
    }
   ],
   "source": [
    "print(\"Number of Answers: \",len(answers))"
   ]
  },
  {
   "cell_type": "code",
   "execution_count": 9,
   "id": "d8cb1ca9",
   "metadata": {},
   "outputs": [
    {
     "data": {
      "text/html": [
       "<div>\n",
       "<style scoped>\n",
       "    .dataframe tbody tr th:only-of-type {\n",
       "        vertical-align: middle;\n",
       "    }\n",
       "\n",
       "    .dataframe tbody tr th {\n",
       "        vertical-align: top;\n",
       "    }\n",
       "\n",
       "    .dataframe thead th {\n",
       "        text-align: right;\n",
       "    }\n",
       "</style>\n",
       "<table border=\"1\" class=\"dataframe\">\n",
       "  <thead>\n",
       "    <tr style=\"text-align: right;\">\n",
       "      <th></th>\n",
       "      <th>Id</th>\n",
       "      <th>OwnerUserId</th>\n",
       "      <th>CreationDate</th>\n",
       "      <th>ParentId</th>\n",
       "      <th>Score</th>\n",
       "      <th>Body</th>\n",
       "    </tr>\n",
       "  </thead>\n",
       "  <tbody>\n",
       "    <tr>\n",
       "      <th>0</th>\n",
       "      <td>497</td>\n",
       "      <td>50.0</td>\n",
       "      <td>2008-08-02T16:56:53Z</td>\n",
       "      <td>469</td>\n",
       "      <td>4</td>\n",
       "      <td>&lt;p&gt;open up a terminal (Applications-&amp;gt;Utilit...</td>\n",
       "    </tr>\n",
       "    <tr>\n",
       "      <th>1</th>\n",
       "      <td>518</td>\n",
       "      <td>153.0</td>\n",
       "      <td>2008-08-02T17:42:28Z</td>\n",
       "      <td>469</td>\n",
       "      <td>2</td>\n",
       "      <td>&lt;p&gt;I haven't been able to find anything that d...</td>\n",
       "    </tr>\n",
       "    <tr>\n",
       "      <th>2</th>\n",
       "      <td>536</td>\n",
       "      <td>161.0</td>\n",
       "      <td>2008-08-02T18:49:07Z</td>\n",
       "      <td>502</td>\n",
       "      <td>9</td>\n",
       "      <td>&lt;p&gt;You can use ImageMagick's convert utility f...</td>\n",
       "    </tr>\n",
       "    <tr>\n",
       "      <th>3</th>\n",
       "      <td>538</td>\n",
       "      <td>156.0</td>\n",
       "      <td>2008-08-02T18:56:56Z</td>\n",
       "      <td>535</td>\n",
       "      <td>23</td>\n",
       "      <td>&lt;p&gt;One possibility is Hudson.  It's written in...</td>\n",
       "    </tr>\n",
       "    <tr>\n",
       "      <th>4</th>\n",
       "      <td>541</td>\n",
       "      <td>157.0</td>\n",
       "      <td>2008-08-02T19:06:40Z</td>\n",
       "      <td>535</td>\n",
       "      <td>20</td>\n",
       "      <td>&lt;p&gt;We run &lt;a href=\"http://buildbot.net/trac\"&gt;B...</td>\n",
       "    </tr>\n",
       "  </tbody>\n",
       "</table>\n",
       "</div>"
      ],
      "text/plain": [
       "    Id  OwnerUserId          CreationDate  ParentId  Score  \\\n",
       "0  497         50.0  2008-08-02T16:56:53Z       469      4   \n",
       "1  518        153.0  2008-08-02T17:42:28Z       469      2   \n",
       "2  536        161.0  2008-08-02T18:49:07Z       502      9   \n",
       "3  538        156.0  2008-08-02T18:56:56Z       535     23   \n",
       "4  541        157.0  2008-08-02T19:06:40Z       535     20   \n",
       "\n",
       "                                                Body  \n",
       "0  <p>open up a terminal (Applications-&gt;Utilit...  \n",
       "1  <p>I haven't been able to find anything that d...  \n",
       "2  <p>You can use ImageMagick's convert utility f...  \n",
       "3  <p>One possibility is Hudson.  It's written in...  \n",
       "4  <p>We run <a href=\"http://buildbot.net/trac\">B...  "
      ]
     },
     "execution_count": 9,
     "metadata": {},
     "output_type": "execute_result"
    }
   ],
   "source": [
    "answers.head()"
   ]
  },
  {
   "cell_type": "code",
   "execution_count": 10,
   "id": "8125fd0d",
   "metadata": {},
   "outputs": [],
   "source": [
    "tags = pd.read_csv('Dataset/Tags.csv',encoding = 'latin-1')"
   ]
  },
  {
   "cell_type": "code",
   "execution_count": 11,
   "id": "4c51b9c1",
   "metadata": {},
   "outputs": [
    {
     "name": "stdout",
     "output_type": "stream",
     "text": [
      "Index(['Id', 'Tag'], dtype='object')\n"
     ]
    }
   ],
   "source": [
    "print(tags.columns)"
   ]
  },
  {
   "cell_type": "code",
   "execution_count": 12,
   "id": "4bc802ab",
   "metadata": {},
   "outputs": [
    {
     "name": "stdout",
     "output_type": "stream",
     "text": [
      "Number of tags :  1885078\n"
     ]
    }
   ],
   "source": [
    "print(\"Number of tags : \",len(tags))"
   ]
  },
  {
   "cell_type": "code",
   "execution_count": 13,
   "id": "dfb780bd",
   "metadata": {},
   "outputs": [
    {
     "data": {
      "text/html": [
       "<div>\n",
       "<style scoped>\n",
       "    .dataframe tbody tr th:only-of-type {\n",
       "        vertical-align: middle;\n",
       "    }\n",
       "\n",
       "    .dataframe tbody tr th {\n",
       "        vertical-align: top;\n",
       "    }\n",
       "\n",
       "    .dataframe thead th {\n",
       "        text-align: right;\n",
       "    }\n",
       "</style>\n",
       "<table border=\"1\" class=\"dataframe\">\n",
       "  <thead>\n",
       "    <tr style=\"text-align: right;\">\n",
       "      <th></th>\n",
       "      <th>Id</th>\n",
       "      <th>Tag</th>\n",
       "    </tr>\n",
       "  </thead>\n",
       "  <tbody>\n",
       "    <tr>\n",
       "      <th>0</th>\n",
       "      <td>469</td>\n",
       "      <td>python</td>\n",
       "    </tr>\n",
       "    <tr>\n",
       "      <th>1</th>\n",
       "      <td>469</td>\n",
       "      <td>osx</td>\n",
       "    </tr>\n",
       "    <tr>\n",
       "      <th>2</th>\n",
       "      <td>469</td>\n",
       "      <td>fonts</td>\n",
       "    </tr>\n",
       "    <tr>\n",
       "      <th>3</th>\n",
       "      <td>469</td>\n",
       "      <td>photoshop</td>\n",
       "    </tr>\n",
       "    <tr>\n",
       "      <th>4</th>\n",
       "      <td>502</td>\n",
       "      <td>python</td>\n",
       "    </tr>\n",
       "  </tbody>\n",
       "</table>\n",
       "</div>"
      ],
      "text/plain": [
       "    Id        Tag\n",
       "0  469     python\n",
       "1  469        osx\n",
       "2  469      fonts\n",
       "3  469  photoshop\n",
       "4  502     python"
      ]
     },
     "execution_count": 13,
     "metadata": {},
     "output_type": "execute_result"
    }
   ],
   "source": [
    "tags.head()"
   ]
  },
  {
   "cell_type": "code",
   "execution_count": 14,
   "id": "b995a431",
   "metadata": {},
   "outputs": [
    {
     "name": "stdout",
     "output_type": "stream",
     "text": [
      "Number of unique Tags :  16896\n"
     ]
    }
   ],
   "source": [
    "print(\"Number of unique Tags : \",len(tags['Tag'].unique()))"
   ]
  },
  {
   "cell_type": "code",
   "execution_count": 15,
   "id": "092f8010",
   "metadata": {},
   "outputs": [
    {
     "name": "stdout",
     "output_type": "stream",
     "text": [
      "Number of Tags which have appeared more than 1000 times:  207\n"
     ]
    }
   ],
   "source": [
    "countOfTag=tags['Tag'].value_counts()\n",
    "countTags=tags[tags.Tag.isin(countOfTag.index[countOfTag.gt(1000)])]\n",
    "print(\"Number of Tags which have appeared more than 1000 times: \",len(countTags.Tag.unique()))"
   ]
  },
  {
   "cell_type": "code",
   "execution_count": 16,
   "id": "d2eeedb7",
   "metadata": {},
   "outputs": [
    {
     "name": "stdout",
     "output_type": "stream",
     "text": [
      "Tage which have appeared more than 1000 times: \n",
      "['python' 'osx' 'windows' 'image' 'pdf' 'sql' 'database' 'arrays'\n",
      " 'iteration' 'django' 'oop' 'mysql' 'postgresql' 'methods' 'syntax' 'xml'\n",
      " 'list' 'tuples' 'php' 'user-interface' 'tkinter' 'linux' 'ruby' 'apache'\n",
      " 'c' 'matlab' 'unicode' 'urllib' 'xpath' 'c++' 'unit-testing' 'lxml'\n",
      " 'loops' 'string' 'regex' 'audio' 'ctypes' 'object' 'matrix' 'orm'\n",
      " 'django-models' 'java' 'datetime' 'subprocess' 'git' 'io' 'gtk' 'pygtk'\n",
      " 'pygame' 'wxpython' 'perl' 'multithreading' 'file-io' 'ssh' 'performance'\n",
      " 'http' 'html' 'shell' 'google-app-engine' 'sorting' 'mod-wsgi'\n",
      " 'python-3.x' 'parsing' 'inheritance' 'variables' 'dictionary' 'file'\n",
      " 'javascript' 'authentication' 'python-2.x' 'date' 'url' 'cgi' 'wsgi'\n",
      " 'math' 'debugging' 'list-comprehension' 'generator' 'sqlalchemy'\n",
      " 'networking' 'for-loop' 'encryption' 'numpy' 'mongodb' 'time' 'path'\n",
      " 'optimization' 'jython' 'ajax' 'class' 'exception' 'sockets' 'set'\n",
      " 'ubuntu' 'function' 'python-import' 'post' 'python-2.7' 'input' 'import'\n",
      " 'email' 'bash' 'c#' 'twisted' 'qt' 'pyqt' 'split' 'api' 'ssl' 'templates'\n",
      " 'django-templates' 'android' 'algorithm' 'encoding' 'excel'\n",
      " 'django-views' 'recursion' 'testing' 'django-forms' 'py2exe' 'logging'\n",
      " 'matplotlib' 'text' 'csv' 'urllib2' 'eclipse' 'jquery' 'beautifulsoup'\n",
      " 'facebook' 'decorator' 'lambda' 'mechanize' 'module' 'pydev' 'pyramid'\n",
      " 'pickle' 'nginx' 'django-admin' 'unix' 'setuptools' 'search'\n",
      " 'if-statement' 'image-processing' 'utf-8' 'json' 'memory' 'elementtree'\n",
      " 'rest' 'nltk' 'nlp' 'sqlite' 'forms' 'printing' 'amazon-web-services'\n",
      " 'python-imaging-library' 'virtualenv' 'replace' 'twitter' 'mocking'\n",
      " 'cython' 'ipython' 'random' 'opencv' 'graph' 'plot' 'multiprocessing'\n",
      " 'web-crawler' 'while-loop' 'pip' 'mysql-python' 'jinja2'\n",
      " 'django-queryset' 'scipy' 'selenium' 'indexing' 'pyqt4' 'web-scraping'\n",
      " 'multidimensional-array' 'boto' 'sqlite3' 'machine-learning' 'scrapy'\n",
      " 'tornado' 'networkx' 'pyside' 'argparse' 'celery' 'python-requests'\n",
      " 'openerp' 'pymongo' 'flask' 'pycharm' 'dataframe' 'heroku' 'scikit-learn'\n",
      " 'selenium-webdriver' 'pandas' 'kivy' 'flask-sqlalchemy' 'web'\n",
      " 'django-rest-framework' 'raspberry-pi' 'anaconda' 'python-3.4'\n",
      " 'apache-spark' 'pyspark' 'tensorflow']\n"
     ]
    }
   ],
   "source": [
    "print(\"Tage which have appeared more than 1000 times: \")\n",
    "print(countTags.Tag.unique())"
   ]
  },
  {
   "cell_type": "code",
   "execution_count": 17,
   "id": "23293d51",
   "metadata": {},
   "outputs": [
    {
     "name": "stdout",
     "output_type": "stream",
     "text": [
      "Top 50 Tagse and their Frequency: \n",
      "python               607283\n",
      "django                62818\n",
      "python-2.7            34616\n",
      "pandas                26854\n",
      "python-3.x            26814\n",
      "numpy                 25848\n",
      "list                  18951\n",
      "matplotlib            16521\n",
      "regex                 14047\n",
      "dictionary            13413\n",
      "tkinter               10766\n",
      "string                10616\n",
      "flask                 10488\n",
      "google-app-engine     10286\n",
      "csv                    9323\n",
      "arrays                 9170\n",
      "json                   8023\n",
      "mysql                  7529\n",
      "linux                  7121\n",
      "html                   7118\n",
      "scipy                  6908\n",
      "multithreading         6804\n",
      "sqlalchemy             6661\n",
      "windows                6267\n",
      "beautifulsoup          6054\n",
      "django-models          5797\n",
      "javascript             5788\n",
      "selenium               5654\n",
      "xml                    5332\n",
      "pyqt                   5217\n",
      "class                  5083\n",
      "osx                    5056\n",
      "pygame                 5050\n",
      "opencv                 4995\n",
      "dataframe              4958\n",
      "function               4867\n",
      "c++                    4850\n",
      "file                   4665\n",
      "scrapy                 4638\n",
      "sockets                4585\n",
      "subprocess             4418\n",
      "loops                  4355\n",
      "scikit-learn           4289\n",
      "pip                    4178\n",
      "algorithm              4168\n",
      "unicode                4135\n",
      "parsing                4062\n",
      "datetime               4040\n",
      "web-scraping           3940\n",
      "multiprocessing        3876\n",
      "Name: Tag, dtype: int64\n"
     ]
    }
   ],
   "source": [
    "frequentTags=countOfTag[:50]\n",
    "print(\"Top 50 Tagse and their Frequency: \")\n",
    "print(frequentTags)"
   ]
  },
  {
   "cell_type": "code",
   "execution_count": 18,
   "id": "d37d6c1f",
   "metadata": {},
   "outputs": [
    {
     "data": {
      "text/plain": [
       "<AxesSubplot:>"
      ]
     },
     "execution_count": 18,
     "metadata": {},
     "output_type": "execute_result"
    },
    {
     "data": {
      "image/png": "[encoded data removed]",
      "text/plain": [
       "<Figure size 1440x360 with 1 Axes>"
      ]
     },
     "metadata": {
      "needs_background": "light"
     },
     "output_type": "display_data"
    }
   ],
   "source": [
    "frequentTags[1:].plot.bar(figsize=(20,5))"
   ]
  },
  {
   "cell_type": "code",
   "execution_count": 19,
   "id": "a7d63148",
   "metadata": {},
   "outputs": [
    {
     "name": "stdout",
     "output_type": "stream",
     "text": [
      "Raw data from Questions Dataset: \n",
      "\n",
      "<p>I have a cross-platform (Python) application which needs to generate a JPEG preview of the first page of a PDF.</p>\n",
      "\n",
      "<p>On the Mac I am spawning <a href=\"http://developer.apple.com/documentation/Darwin/Reference/ManPages/man1/sips.1.html\">sips</a>.  Is there something similarly simple I can do on Windows?</p>\n",
      "\n"
     ]
    }
   ],
   "source": [
    "print(\"Raw data from Questions Dataset: \",end=\"\\n\\n\")\n",
    "print(questions.Body[1])"
   ]
  },
  {
   "cell_type": "code",
   "execution_count": 21,
   "id": "0977e5d7",
   "metadata": {},
   "outputs": [
    {
     "name": "stdout",
     "output_type": "stream",
     "text": [
      "I have a cross-platform (Python) application which needs to generate a JPEG preview of the first page of a PDF.\n",
      "On the Mac I am spawning sips.  Is there something similarly simple I can do on Windows?\n",
      "\n"
     ]
    }
   ],
   "source": [
    "print(BeautifulSoup(questions.Body[1]).get_text())"
   ]
  },
  {
   "cell_type": "code",
   "execution_count": null,
   "id": "5e0a3528",
   "metadata": {},
   "outputs": [],
   "source": []
  }
 ],
 "metadata": {
  "kernelspec": {
   "display_name": "Python 3",
   "language": "python",
   "name": "python3"
  },
  "language_info": {
   "codemirror_mode": {
    "name": "ipython",
    "version": 3
   },
   "file_extension": ".py",
   "mimetype": "text/x-python",
   "name": "python",
   "nbconvert_exporter": "python",
   "pygments_lexer": "ipython3",
   "version": "3.8.8"
  }
 },
 "nbformat": 4,
 "nbformat_minor": 5
}
