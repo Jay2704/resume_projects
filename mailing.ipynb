{
 "cells": [
  {
   "cell_type": "code",
   "execution_count": 1,
   "id": "e6133bf0",
   "metadata": {},
   "outputs": [],
   "source": [
    "import smtplib\n",
    "from email.message import EmailMessage"
   ]
  },
  {
   "cell_type": "code",
   "execution_count": 5,
   "id": "da055cd4",
   "metadata": {},
   "outputs": [],
   "source": [
    "def mail(Aid):\n",
    "    sender_mail = 'pybotservice@gmail.com'\n",
    "    receivers_mail = ['chinmay.is18@bmsce.ac.in','nikhil.is18@bmsce.ac.in','jay.is18@bmsce.ac.in']\n",
    "    message = \"\"\"Hello Admins,\n",
    "                 Users seem to be unsatisfied with the answer with the Id : {}\n",
    "                 Please take Required Action\"\"\".format(Aid)\n",
    "    smtpObj = smtplib.SMTP('localhost',1025)\n",
    "    smtpObj.sendmail(sender_mail, receivers_mail, message)"
   ]
  },
  {
   "cell_type": "code",
   "execution_count": 6,
   "id": "f551fe6c",
   "metadata": {},
   "outputs": [],
   "source": [
    "mail(5)"
   ]
  },
  {
   "cell_type": "code",
   "execution_count": null,
   "id": "547b47c0",
   "metadata": {},
   "outputs": [],
   "source": []
  }
 ],
 "metadata": {
  "kernelspec": {
   "display_name": "Python 3 (ipykernel)",
   "language": "python",
   "name": "python3"
  },
  "language_info": {
   "codemirror_mode": {
    "name": "ipython",
    "version": 3
   },
   "file_extension": ".py",
   "mimetype": "text/x-python",
   "name": "python",
   "nbconvert_exporter": "python",
   "pygments_lexer": "ipython3",
   "version": "3.9.12"
  }
 },
 "nbformat": 4,
 "nbformat_minor": 5
}
